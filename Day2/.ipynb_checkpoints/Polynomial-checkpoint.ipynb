{
 "cells": [
  {
   "cell_type": "code",
   "execution_count": 1,
   "id": "397ae7fb",
   "metadata": {},
   "outputs": [],
   "source": [
    "import pandas as pd \n",
    "from sklearn.linear_model import LinearRegression\n",
    "from sklearn.model_selection import train_test_split, cross_val_score\n",
    "from sklearn.preprocessing import PolynomialFeatures\n",
    "from sklearn.metrics import r2_score, mean_squared_error\n",
    "from sklearn.model_selection import KFold\n",
    "import matplotlib.pyplot as plt\n",
    "import seaborn as sns\n",
    "import numpy as np "
   ]
  },
  {
   "cell_type": "code",
   "execution_count": 2,
   "id": "0e4e9b53",
   "metadata": {},
   "outputs": [],
   "source": [
    "pizza = pd.read_csv(r\"C:\\Users\\Anonymous\\Desktop\\Advance Statistics\\Datasets\\pizza.csv\")"
   ]
  },
  {
   "cell_type": "code",
   "execution_count": 3,
   "id": "a26cddea",
   "metadata": {},
   "outputs": [
    {
     "data": {
      "text/html": [
       "<div>\n",
       "<style scoped>\n",
       "    .dataframe tbody tr th:only-of-type {\n",
       "        vertical-align: middle;\n",
       "    }\n",
       "\n",
       "    .dataframe tbody tr th {\n",
       "        vertical-align: top;\n",
       "    }\n",
       "\n",
       "    .dataframe thead th {\n",
       "        text-align: right;\n",
       "    }\n",
       "</style>\n",
       "<table border=\"1\" class=\"dataframe\">\n",
       "  <thead>\n",
       "    <tr style=\"text-align: right;\">\n",
       "      <th></th>\n",
       "      <th>Promote</th>\n",
       "      <th>Sales</th>\n",
       "    </tr>\n",
       "  </thead>\n",
       "  <tbody>\n",
       "    <tr>\n",
       "      <th>0</th>\n",
       "      <td>23</td>\n",
       "      <td>554</td>\n",
       "    </tr>\n",
       "    <tr>\n",
       "      <th>1</th>\n",
       "      <td>56</td>\n",
       "      <td>1339</td>\n",
       "    </tr>\n",
       "    <tr>\n",
       "      <th>2</th>\n",
       "      <td>34</td>\n",
       "      <td>815</td>\n",
       "    </tr>\n",
       "    <tr>\n",
       "      <th>3</th>\n",
       "      <td>25</td>\n",
       "      <td>609</td>\n",
       "    </tr>\n",
       "    <tr>\n",
       "      <th>4</th>\n",
       "      <td>67</td>\n",
       "      <td>1600</td>\n",
       "    </tr>\n",
       "    <tr>\n",
       "      <th>5</th>\n",
       "      <td>82</td>\n",
       "      <td>2000</td>\n",
       "    </tr>\n",
       "    <tr>\n",
       "      <th>6</th>\n",
       "      <td>46</td>\n",
       "      <td>1000</td>\n",
       "    </tr>\n",
       "    <tr>\n",
       "      <th>7</th>\n",
       "      <td>14</td>\n",
       "      <td>300</td>\n",
       "    </tr>\n",
       "    <tr>\n",
       "      <th>8</th>\n",
       "      <td>6</td>\n",
       "      <td>150</td>\n",
       "    </tr>\n",
       "    <tr>\n",
       "      <th>9</th>\n",
       "      <td>47</td>\n",
       "      <td>1150</td>\n",
       "    </tr>\n",
       "    <tr>\n",
       "      <th>10</th>\n",
       "      <td>52</td>\n",
       "      <td>1200</td>\n",
       "    </tr>\n",
       "    <tr>\n",
       "      <th>11</th>\n",
       "      <td>88</td>\n",
       "      <td>2000</td>\n",
       "    </tr>\n",
       "    <tr>\n",
       "      <th>12</th>\n",
       "      <td>71</td>\n",
       "      <td>1750</td>\n",
       "    </tr>\n",
       "    <tr>\n",
       "      <th>13</th>\n",
       "      <td>78</td>\n",
       "      <td>2000</td>\n",
       "    </tr>\n",
       "    <tr>\n",
       "      <th>14</th>\n",
       "      <td>66</td>\n",
       "      <td>1500</td>\n",
       "    </tr>\n",
       "    <tr>\n",
       "      <th>15</th>\n",
       "      <td>44</td>\n",
       "      <td>1000</td>\n",
       "    </tr>\n",
       "    <tr>\n",
       "      <th>16</th>\n",
       "      <td>68</td>\n",
       "      <td>1600</td>\n",
       "    </tr>\n",
       "    <tr>\n",
       "      <th>17</th>\n",
       "      <td>90</td>\n",
       "      <td>2000</td>\n",
       "    </tr>\n",
       "    <tr>\n",
       "      <th>18</th>\n",
       "      <td>22</td>\n",
       "      <td>550</td>\n",
       "    </tr>\n",
       "  </tbody>\n",
       "</table>\n",
       "</div>"
      ],
      "text/plain": [
       "    Promote  Sales\n",
       "0        23    554\n",
       "1        56   1339\n",
       "2        34    815\n",
       "3        25    609\n",
       "4        67   1600\n",
       "5        82   2000\n",
       "6        46   1000\n",
       "7        14    300\n",
       "8         6    150\n",
       "9        47   1150\n",
       "10       52   1200\n",
       "11       88   2000\n",
       "12       71   1750\n",
       "13       78   2000\n",
       "14       66   1500\n",
       "15       44   1000\n",
       "16       68   1600\n",
       "17       90   2000\n",
       "18       22    550"
      ]
     },
     "execution_count": 3,
     "metadata": {},
     "output_type": "execute_result"
    }
   ],
   "source": [
    "pizza"
   ]
  },
  {
   "cell_type": "code",
   "execution_count": 4,
   "id": "b7da11fe",
   "metadata": {},
   "outputs": [],
   "source": [
    "X = pizza[['Promote']]\n",
    "y = pizza['Sales']"
   ]
  },
  {
   "cell_type": "code",
   "execution_count": 5,
   "id": "f5c82bf3",
   "metadata": {},
   "outputs": [
    {
     "data": {
      "image/png": "[encoded data removed]",
      "text/plain": [
       "<Figure size 640x480 with 1 Axes>"
      ]
     },
     "metadata": {},
     "output_type": "display_data"
    }
   ],
   "source": [
    "### to apply polinomial features on this dataset we need to under the relationship between these two variables \n",
    "plt.scatter(pizza['Promote'],pizza['Sales'])\n",
    "plt.show()\n",
    "\n",
    "### here we can see the linear relationship between these two variables \n"
   ]
  },
  {
   "cell_type": "code",
   "execution_count": 6,
   "id": "aa45ef64",
   "metadata": {},
   "outputs": [],
   "source": [
    "### no need of polynomial features but if still you want to apply \n",
    "X_train,X_test,y_train,y_test = train_test_split(X,y,random_state=23,test_size=0.3)\n",
    "poly = PolynomialFeatures(degree=2)\n",
    "X_train_poly = poly.fit_transform(X_train)\n",
    "X_test_poly = poly.transform(X_test)"
   ]
  },
  {
   "cell_type": "code",
   "execution_count": 7,
   "id": "36c61c28",
   "metadata": {},
   "outputs": [
    {
     "name": "stdout",
     "output_type": "stream",
     "text": [
      "b0 =  -24.376994343144816\n",
      "b1 =  [ 0.00000000e+00  2.52775750e+01 -2.02908418e-02]\n",
      "mean squared error  1612.0308033062267\n"
     ]
    }
   ],
   "source": [
    "### linear Regression \n",
    "lr = LinearRegression()\n",
    "lr.fit(X_train_poly,y_train)\n",
    "\n",
    "y_pred = lr.predict(X_test_poly)\n",
    "print(\"b0 = \",lr.intercept_)\n",
    "print(\"b1 = \",lr.coef_)\n",
    "# calculate mse \n",
    "print(\"mean squared error \",mean_squared_error(y_test,y_pred))"
   ]
  },
  {
   "cell_type": "code",
   "execution_count": 8,
   "id": "4b46b64f",
   "metadata": {},
   "outputs": [
    {
     "data": {
      "text/html": [
       "<div>\n",
       "<style scoped>\n",
       "    .dataframe tbody tr th:only-of-type {\n",
       "        vertical-align: middle;\n",
       "    }\n",
       "\n",
       "    .dataframe tbody tr th {\n",
       "        vertical-align: top;\n",
       "    }\n",
       "\n",
       "    .dataframe thead th {\n",
       "        text-align: right;\n",
       "    }\n",
       "</style>\n",
       "<table border=\"1\" class=\"dataframe\">\n",
       "  <thead>\n",
       "    <tr style=\"text-align: right;\">\n",
       "      <th></th>\n",
       "      <th>crim</th>\n",
       "      <th>zn</th>\n",
       "      <th>indus</th>\n",
       "      <th>chas</th>\n",
       "      <th>nox</th>\n",
       "      <th>rm</th>\n",
       "      <th>age</th>\n",
       "      <th>dis</th>\n",
       "      <th>rad</th>\n",
       "      <th>tax</th>\n",
       "      <th>ptratio</th>\n",
       "      <th>black</th>\n",
       "      <th>lstat</th>\n",
       "      <th>medv</th>\n",
       "    </tr>\n",
       "  </thead>\n",
       "  <tbody>\n",
       "    <tr>\n",
       "      <th>0</th>\n",
       "      <td>0.00632</td>\n",
       "      <td>18.0</td>\n",
       "      <td>2.31</td>\n",
       "      <td>0</td>\n",
       "      <td>0.538</td>\n",
       "      <td>6.575</td>\n",
       "      <td>65.2</td>\n",
       "      <td>4.0900</td>\n",
       "      <td>1</td>\n",
       "      <td>296</td>\n",
       "      <td>15.3</td>\n",
       "      <td>396.90</td>\n",
       "      <td>4.98</td>\n",
       "      <td>24.0</td>\n",
       "    </tr>\n",
       "    <tr>\n",
       "      <th>1</th>\n",
       "      <td>0.02731</td>\n",
       "      <td>0.0</td>\n",
       "      <td>7.07</td>\n",
       "      <td>0</td>\n",
       "      <td>0.469</td>\n",
       "      <td>6.421</td>\n",
       "      <td>78.9</td>\n",
       "      <td>4.9671</td>\n",
       "      <td>2</td>\n",
       "      <td>242</td>\n",
       "      <td>17.8</td>\n",
       "      <td>396.90</td>\n",
       "      <td>9.14</td>\n",
       "      <td>21.6</td>\n",
       "    </tr>\n",
       "    <tr>\n",
       "      <th>2</th>\n",
       "      <td>0.02729</td>\n",
       "      <td>0.0</td>\n",
       "      <td>7.07</td>\n",
       "      <td>0</td>\n",
       "      <td>0.469</td>\n",
       "      <td>7.185</td>\n",
       "      <td>61.1</td>\n",
       "      <td>4.9671</td>\n",
       "      <td>2</td>\n",
       "      <td>242</td>\n",
       "      <td>17.8</td>\n",
       "      <td>392.83</td>\n",
       "      <td>4.03</td>\n",
       "      <td>34.7</td>\n",
       "    </tr>\n",
       "    <tr>\n",
       "      <th>3</th>\n",
       "      <td>0.03237</td>\n",
       "      <td>0.0</td>\n",
       "      <td>2.18</td>\n",
       "      <td>0</td>\n",
       "      <td>0.458</td>\n",
       "      <td>6.998</td>\n",
       "      <td>45.8</td>\n",
       "      <td>6.0622</td>\n",
       "      <td>3</td>\n",
       "      <td>222</td>\n",
       "      <td>18.7</td>\n",
       "      <td>394.63</td>\n",
       "      <td>2.94</td>\n",
       "      <td>33.4</td>\n",
       "    </tr>\n",
       "    <tr>\n",
       "      <th>4</th>\n",
       "      <td>0.06905</td>\n",
       "      <td>0.0</td>\n",
       "      <td>2.18</td>\n",
       "      <td>0</td>\n",
       "      <td>0.458</td>\n",
       "      <td>7.147</td>\n",
       "      <td>54.2</td>\n",
       "      <td>6.0622</td>\n",
       "      <td>3</td>\n",
       "      <td>222</td>\n",
       "      <td>18.7</td>\n",
       "      <td>396.90</td>\n",
       "      <td>5.33</td>\n",
       "      <td>36.2</td>\n",
       "    </tr>\n",
       "  </tbody>\n",
       "</table>\n",
       "</div>"
      ],
      "text/plain": [
       "      crim    zn  indus  chas    nox     rm   age     dis  rad  tax  ptratio  \\\n",
       "0  0.00632  18.0   2.31     0  0.538  6.575  65.2  4.0900    1  296     15.3   \n",
       "1  0.02731   0.0   7.07     0  0.469  6.421  78.9  4.9671    2  242     17.8   \n",
       "2  0.02729   0.0   7.07     0  0.469  7.185  61.1  4.9671    2  242     17.8   \n",
       "3  0.03237   0.0   2.18     0  0.458  6.998  45.8  6.0622    3  222     18.7   \n",
       "4  0.06905   0.0   2.18     0  0.458  7.147  54.2  6.0622    3  222     18.7   \n",
       "\n",
       "    black  lstat  medv  \n",
       "0  396.90   4.98  24.0  \n",
       "1  396.90   9.14  21.6  \n",
       "2  392.83   4.03  34.7  \n",
       "3  394.63   2.94  33.4  \n",
       "4  396.90   5.33  36.2  "
      ]
     },
     "execution_count": 8,
     "metadata": {},
     "output_type": "execute_result"
    }
   ],
   "source": [
    "######################### Boston dataset \n",
    "boston = pd.read_csv(r\"C:\\Users\\Anonymous\\Desktop\\Machine Learning\\Datasets\\Boston.csv\")\n",
    "boston.head()"
   ]
  },
  {
   "cell_type": "code",
   "execution_count": 9,
   "id": "aaf99ae6",
   "metadata": {},
   "outputs": [],
   "source": [
    "X = boston[['dis','lstat']]\n",
    "y = boston['medv']"
   ]
  },
  {
   "cell_type": "code",
   "execution_count": 10,
   "id": "ddf18219",
   "metadata": {},
   "outputs": [
    {
     "data": {
      "text/plain": [
       "<seaborn.axisgrid.PairGrid at 0x28ca061ce50>"
      ]
     },
     "execution_count": 10,
     "metadata": {},
     "output_type": "execute_result"
    },
    {
     "data": {
      "image/png": "[encoded data removed]",
      "text/plain": [
       "<Figure size 1500x500 with 2 Axes>"
      ]
     },
     "metadata": {},
     "output_type": "display_data"
    }
   ],
   "source": [
    "sns.pairplot(boston, x_vars=['dis', 'lstat'], y_vars='medv', height=5, aspect=1.5, kind='scatter')"
   ]
  },
  {
   "cell_type": "code",
   "execution_count": 11,
   "id": "1fbca88b",
   "metadata": {},
   "outputs": [
    {
     "name": "stdout",
     "output_type": "stream",
     "text": [
      "['1' 'dis' 'lstat' 'dis^2' 'dis lstat' 'lstat^2' 'dis^3' 'dis^2 lstat'\n",
      " 'dis lstat^2' 'lstat^3' 'dis^4' 'dis^3 lstat' 'dis^2 lstat^2'\n",
      " 'dis lstat^3' 'lstat^4' 'dis^5' 'dis^4 lstat' 'dis^3 lstat^2'\n",
      " 'dis^2 lstat^3' 'dis lstat^4' 'lstat^5']\n"
     ]
    }
   ],
   "source": [
    "### apply polynomial features \n",
    "poly = PolynomialFeatures(degree=5)\n",
    "X_poly = poly.fit_transform(X)\n",
    "print(poly.get_feature_names_out())"
   ]
  },
  {
   "cell_type": "code",
   "execution_count": 12,
   "id": "1ea8f65a",
   "metadata": {},
   "outputs": [
    {
     "name": "stdout",
     "output_type": "stream",
     "text": [
      "Mean Squared Error :  52.79014627140662\n"
     ]
    }
   ],
   "source": [
    "X_train, X_test, y_train, y_test = train_test_split(X_poly,y,\n",
    "                                                    test_size=0.3,\n",
    "                                                    random_state=23)\n",
    "### linear Regression\n",
    "lr = LinearRegression()\n",
    "lr.fit(X_train,y_train)\n",
    "y_pred = lr.predict(X_test)\n",
    "print(\"Mean Squared Error : \",mean_squared_error(y_test,y_pred))\n"
   ]
  },
  {
   "cell_type": "code",
   "execution_count": 16,
   "id": "66a52e11",
   "metadata": {},
   "outputs": [
    {
     "name": "stdout",
     "output_type": "stream",
     "text": [
      "Best Degree =  4\n",
      "Best Score =  -23.55190425483885\n"
     ]
    }
   ],
   "source": [
    "### With K-Fold \n",
    "kfold = KFold(n_splits=5,shuffle=True,random_state=23)\n",
    "lr = LinearRegression()\n",
    "degree = [1,2,3,4,5]\n",
    "scores = []\n",
    "for n in degree:\n",
    "    poly = PolynomialFeatures(degree = n)\n",
    "    X_poly = poly.fit_transform(X)\n",
    "    results = cross_val_score(lr,X_poly,y,cv = kfold,scoring = 'neg_mean_squared_error')\n",
    "    scores.append(results.mean())\n",
    "    \n",
    "i_max = np.argmax(scores)\n",
    "print(\"Best Degree = \",degree[i_max])\n",
    "print(\"Best Score = \",scores[i_max])"
   ]
  },
  {
   "cell_type": "code",
   "execution_count": 28,
   "id": "71c69ac9",
   "metadata": {},
   "outputs": [
    {
     "name": "stdout",
     "output_type": "stream",
     "text": [
      "Best degree = 2\n",
      "Best Score = -17.0106923147326\n",
      "[-23.91057468 -11.30814325 -23.89358724 -12.56706896 -13.37408744]\n",
      "-17.0106923147326\n"
     ]
    }
   ],
   "source": [
    "################ taking all variables\n",
    "kfold = KFold(n_splits=5, shuffle=True, random_state=23)\n",
    "X = boston.drop('medv', axis=1)\n",
    "y = boston['medv']\n",
    "lr = LinearRegression()\n",
    "degrees = [1,2,3,4,5]\n",
    "scores = []\n",
    "for n in degrees:\n",
    "    poly = PolynomialFeatures(degree=n)\n",
    "    X_poly = poly.fit_transform(X)\n",
    "    results = cross_val_score(lr,X_poly,y, cv=kfold,\n",
    "                              scoring='neg_mean_squared_error')\n",
    "    scores.append(results.mean())\n",
    "i_max = np.argmax(scores)\n",
    "print(\"Best degree =\", degrees[i_max])\n",
    "print(\"Best Score =\", scores[i_max])\n",
    "### Pipeline \n",
    "from sklearn.pipeline import Pipeline\n",
    "poly = PolynomialFeatures(degree=2)\n",
    "lr = LinearRegression()\n",
    "pipe = Pipeline([('POLY',poly),('LR',lr)])\n",
    "results = cross_val_score(pipe,X,y,cv = kfold,scoring = 'neg_mean_squared_error')\n",
    "print(results)\n",
    "print(results.mean())"
   ]
  },
  {
   "cell_type": "code",
   "execution_count": 29,
   "id": "e25108b1",
   "metadata": {},
   "outputs": [
    {
     "name": "stdout",
     "output_type": "stream",
     "text": [
      "<bound method Pipeline.get_params of Pipeline(steps=[('POLY', PolynomialFeatures()), ('LR', LinearRegression())])>\n",
      "{'POLY__degree': 2}\n",
      "-17.0106923147326\n"
     ]
    }
   ],
   "source": [
    "## Grid Seach CV\n",
    "from sklearn.model_selection import GridSearchCV\n",
    "degrees = [1,2,3,4,5]\n",
    "print(pipe.get_params)\n",
    "params = {'POLY__degree':degrees}\n",
    "gcv = GridSearchCV(pipe,param_grid=params,cv = kfold,scoring = 'neg_mean_squared_error')\n",
    "gcv.fit(X,y)\n",
    "print(gcv.best_params_)\n",
    "print(gcv.best_score_)"
   ]
  },
  {
   "cell_type": "markdown",
   "id": "b311d5fb",
   "metadata": {},
   "source": [
    "In scikit-learn, the scoring parameter in cross_val_score() allows you to specify the evaluation metric to be used during cross-validation. When you set scoring='neg_mean_squared_error', it means that the model will be evaluated based on the negative mean squared error (MSE) during each fold of the cross-validation process.\n",
    "-The reason for taking the negative of the MSE is to maintain consistency with the convention of maximizing scoring metrics.\n"
   ]
  },
  {
   "cell_type": "code",
   "execution_count": null,
   "id": "e442ebe8",
   "metadata": {},
   "outputs": [],
   "source": []
  }
 ],
 "metadata": {
  "kernelspec": {
   "display_name": "Python 3 (ipykernel)",
   "language": "python",
   "name": "python3"
  },
  "language_info": {
   "codemirror_mode": {
    "name": "ipython",
    "version": 3
   },
   "file_extension": ".py",
   "mimetype": "text/x-python",
   "name": "python",
   "nbconvert_exporter": "python",
   "pygments_lexer": "ipython3",
   "version": "3.11.3"
  }
 },
 "nbformat": 4,
 "nbformat_minor": 5
}
