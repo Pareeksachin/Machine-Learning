{
 "cells": [
  {
   "cell_type": "code",
   "execution_count": 1,
   "id": "65968d85",
   "metadata": {},
   "outputs": [],
   "source": [
    "import pandas as pd \n",
    "from sklearn.linear_model import Ridge\n",
    "from sklearn.model_selection import train_test_split, cross_val_score\n",
    "from sklearn.model_selection import GridSearchCV\n",
    "from sklearn.preprocessing import PolynomialFeatures\n",
    "from sklearn.metrics import r2_score, mean_squared_error\n",
    "from sklearn.model_selection import KFold\n",
    "import matplotlib.pyplot as plt\n",
    "import seaborn as sns\n",
    "import numpy as np "
   ]
  },
  {
   "cell_type": "code",
   "execution_count": 2,
   "id": "d471752d",
   "metadata": {},
   "outputs": [],
   "source": [
    "boston = pd.read_csv(r\"C:\\Users\\Anonymous\\Desktop\\Machine Learning\\Datasets\\boston.csv\")"
   ]
  },
  {
   "cell_type": "code",
   "execution_count": 3,
   "id": "76b7f440",
   "metadata": {},
   "outputs": [],
   "source": [
    "X = boston.drop('medv',axis = 1)\n",
    "y = boston['medv']\n",
    "X_train,X_test,y_train,y_test = train_test_split(X,y,test_size=0.3,random_state=23)"
   ]
  },
  {
   "cell_type": "markdown",
   "id": "6e8a395c",
   "metadata": {},
   "source": [
    "Ridge regression is a regularization technique used in linear regression to prevent overfitting and improve the stability of the model. It is an extension of linear regression that adds a penalty term to the cost function, which helps to control the complexity of the model."
   ]
  },
  {
   "cell_type": "code",
   "execution_count": 4,
   "id": "13e0cc35",
   "metadata": {},
   "outputs": [
    {
     "name": "stdout",
     "output_type": "stream",
     "text": [
      "25.647900623108672\n"
     ]
    }
   ],
   "source": [
    "ridge = Ridge(alpha=1)\n",
    "ridge.fit(X_train, y_train)\n",
    "y_pred = ridge.predict(X_test)\n",
    "print(mean_squared_error(y_test, y_pred))"
   ]
  },
  {
   "cell_type": "markdown",
   "id": "0238b1b4",
   "metadata": {},
   "source": [
    "Ridge regression, on the other hand, adds a regularization term to the loss function, which is the sum of squared coefficients multiplied by a hyperparameter (alpha or lambda). This regularization term penalizes large coefficient values, encouraging the model to keep the coefficients smaller and the model less complex. By doing so, ridge regression reduces the variance in the model and helps prevent overfitting.\n",
    "\n",
    "The main differences between linear regression and ridge regression are:\n",
    "\n",
    "Objective Function:\n",
    "\n",
    "Linear Regression: Minimizes the sum of squared differences between actual and predicted values.\n",
    "Ridge Regression: Minimizes the sum of squared differences between actual and predicted values, along with a penalty term that penalizes large coefficient values.\n",
    "Regularization:\n",
    "\n",
    "Linear Regression: Does not have regularization, leading to potential overfitting in high-dimensional or noisy data.\n",
    "Ridge Regression: Includes a regularization term to control the complexity of the model and prevent overfitting.\n",
    "Coefficient Values:\n",
    "\n",
    "Linear Regression: Coefficients can take any values to fit the data optimally.\n",
    "Ridge Regression: Coefficients are regularized and tend to be smaller, reducing the impact of individual features and providing a more stable model.\n",
    "In summary, ridge regression is used to improve the performance and generalization of linear regression models, especially when dealing with complex or high-dimensional data that may lead to overfitting. By adding a regularization term, ridge regression trades off some bias for lower variance, leading to a more robust model."
   ]
  }
 ],
 "metadata": {
  "kernelspec": {
   "display_name": "Python 3 (ipykernel)",
   "language": "python",
   "name": "python3"
  },
  "language_info": {
   "codemirror_mode": {
    "name": "ipython",
    "version": 3
   },
   "file_extension": ".py",
   "mimetype": "text/x-python",
   "name": "python",
   "nbconvert_exporter": "python",
   "pygments_lexer": "ipython3",
   "version": "3.11.3"
  }
 },
 "nbformat": 4,
 "nbformat_minor": 5
}
