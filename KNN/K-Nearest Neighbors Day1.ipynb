{
 "cells": [
  {
   "cell_type": "markdown",
   "id": "baeca841",
   "metadata": {},
   "source": [
    "# Loading the data "
   ]
  },
  {
   "cell_type": "code",
   "execution_count": 3,
   "id": "7dc16933",
   "metadata": {},
   "outputs": [],
   "source": [
    "from sklearn.datasets import load_iris"
   ]
  },
  {
   "cell_type": "code",
   "execution_count": 4,
   "id": "d87b12fa",
   "metadata": {},
   "outputs": [],
   "source": [
    "iris = load_iris()"
   ]
  },
  {
   "cell_type": "code",
   "execution_count": 6,
   "id": "1a817f23",
   "metadata": {},
   "outputs": [],
   "source": [
    "# store feature matrix in x\n",
    "X = iris.data\n",
    "# store response vector in y\n",
    "y = iris.target"
   ]
  },
  {
   "cell_type": "code",
   "execution_count": 13,
   "id": "6427aa23",
   "metadata": {},
   "outputs": [
    {
     "name": "stdout",
     "output_type": "stream",
     "text": [
      "(150, 4)\n",
      "(150,)\n"
     ]
    }
   ],
   "source": [
    "print(X.shape)\n",
    "print(y.shape)"
   ]
  },
  {
   "cell_type": "markdown",
   "id": "f89be036",
   "metadata": {},
   "source": [
    "# Scikit-learn 4 step modeling pattern"
   ]
  },
  {
   "cell_type": "markdown",
   "id": "6a0636d3",
   "metadata": {},
   "source": [
    "step 1 : import the class you plan to use \n"
   ]
  },
  {
   "cell_type": "code",
   "execution_count": 15,
   "id": "6dd01de9",
   "metadata": {},
   "outputs": [],
   "source": [
    "from sklearn.neighbors import KNeighborsClassifier"
   ]
  },
  {
   "cell_type": "markdown",
   "id": "e0ef03f6",
   "metadata": {},
   "source": [
    "step 2 : \"Instantiate\" the \"Estimator\"\n",
    "    *\"Estimator\" is the scikit-learn's term for model\n",
    "    * \"Instantiate\" means \"make an instance of\""
   ]
  },
  {
   "cell_type": "code",
   "execution_count": 17,
   "id": "7ec47dc4",
   "metadata": {},
   "outputs": [],
   "source": [
    "knn = KNeighborsClassifier(n_neighbors=1)\n",
    "#n_neighbors is the tuning parameter or hyper parameters\n",
    "# all other parameters not specified are set to their defaults"
   ]
  },
  {
   "cell_type": "markdown",
   "id": "f42c01db",
   "metadata": {},
   "source": [
    "Step 3 : #fit the model with data - model training\n",
    "         * model is learning the realtionship between X and y\n",
    "         * occurs in place\n"
   ]
  },
  {
   "cell_type": "code",
   "execution_count": 24,
   "id": "b8041a5f",
   "metadata": {},
   "outputs": [
    {
     "data": {
      "text/html": [
       "<style>#sk-container-id-3 {color: black;background-color: white;}#sk-container-id-3 pre{padding: 0;}#sk-container-id-3 div.sk-toggleable {background-color: white;}#sk-container-id-3 label.sk-toggleable__label {cursor: pointer;display: block;width: 100%;margin-bottom: 0;padding: 0.3em;box-sizing: border-box;text-align: center;}#sk-container-id-3 label.sk-toggleable__label-arrow:before {content: \"▸\";float: left;margin-right: 0.25em;color: #696969;}#sk-container-id-3 label.sk-toggleable__label-arrow:hover:before {color: black;}#sk-container-id-3 div.sk-estimator:hover label.sk-toggleable__label-arrow:before {color: black;}#sk-container-id-3 div.sk-toggleable__content {max-height: 0;max-width: 0;overflow: hidden;text-align: left;background-color: #f0f8ff;}#sk-container-id-3 div.sk-toggleable__content pre {margin: 0.2em;color: black;border-radius: 0.25em;background-color: #f0f8ff;}#sk-container-id-3 input.sk-toggleable__control:checked~div.sk-toggleable__content {max-height: 200px;max-width: 100%;overflow: auto;}#sk-container-id-3 input.sk-toggleable__control:checked~label.sk-toggleable__label-arrow:before {content: \"▾\";}#sk-container-id-3 div.sk-estimator input.sk-toggleable__control:checked~label.sk-toggleable__label {background-color: #d4ebff;}#sk-container-id-3 div.sk-label input.sk-toggleable__control:checked~label.sk-toggleable__label {background-color: #d4ebff;}#sk-container-id-3 input.sk-hidden--visually {border: 0;clip: rect(1px 1px 1px 1px);clip: rect(1px, 1px, 1px, 1px);height: 1px;margin: -1px;overflow: hidden;padding: 0;position: absolute;width: 1px;}#sk-container-id-3 div.sk-estimator {font-family: monospace;background-color: #f0f8ff;border: 1px dotted black;border-radius: 0.25em;box-sizing: border-box;margin-bottom: 0.5em;}#sk-container-id-3 div.sk-estimator:hover {background-color: #d4ebff;}#sk-container-id-3 div.sk-parallel-item::after {content: \"\";width: 100%;border-bottom: 1px solid gray;flex-grow: 1;}#sk-container-id-3 div.sk-label:hover label.sk-toggleable__label {background-color: #d4ebff;}#sk-container-id-3 div.sk-serial::before {content: \"\";position: absolute;border-left: 1px solid gray;box-sizing: border-box;top: 0;bottom: 0;left: 50%;z-index: 0;}#sk-container-id-3 div.sk-serial {display: flex;flex-direction: column;align-items: center;background-color: white;padding-right: 0.2em;padding-left: 0.2em;position: relative;}#sk-container-id-3 div.sk-item {position: relative;z-index: 1;}#sk-container-id-3 div.sk-parallel {display: flex;align-items: stretch;justify-content: center;background-color: white;position: relative;}#sk-container-id-3 div.sk-item::before, #sk-container-id-3 div.sk-parallel-item::before {content: \"\";position: absolute;border-left: 1px solid gray;box-sizing: border-box;top: 0;bottom: 0;left: 50%;z-index: -1;}#sk-container-id-3 div.sk-parallel-item {display: flex;flex-direction: column;z-index: 1;position: relative;background-color: white;}#sk-container-id-3 div.sk-parallel-item:first-child::after {align-self: flex-end;width: 50%;}#sk-container-id-3 div.sk-parallel-item:last-child::after {align-self: flex-start;width: 50%;}#sk-container-id-3 div.sk-parallel-item:only-child::after {width: 0;}#sk-container-id-3 div.sk-dashed-wrapped {border: 1px dashed gray;margin: 0 0.4em 0.5em 0.4em;box-sizing: border-box;padding-bottom: 0.4em;background-color: white;}#sk-container-id-3 div.sk-label label {font-family: monospace;font-weight: bold;display: inline-block;line-height: 1.2em;}#sk-container-id-3 div.sk-label-container {text-align: center;}#sk-container-id-3 div.sk-container {/* jupyter's `normalize.less` sets `[hidden] { display: none; }` but bootstrap.min.css set `[hidden] { display: none !important; }` so we also need the `!important` here to be able to override the default hidden behavior on the sphinx rendered scikit-learn.org. See: https://github.com/scikit-learn/scikit-learn/issues/21755 */display: inline-block !important;position: relative;}#sk-container-id-3 div.sk-text-repr-fallback {display: none;}</style><div id=\"sk-container-id-3\" class=\"sk-top-container\"><div class=\"sk-text-repr-fallback\"><pre>KNeighborsClassifier(n_neighbors=1)</pre><b>In a Jupyter environment, please rerun this cell to show the HTML representation or trust the notebook. <br />On GitHub, the HTML representation is unable to render, please try loading this page with nbviewer.org.</b></div><div class=\"sk-container\" hidden><div class=\"sk-item\"><div class=\"sk-estimator sk-toggleable\"><input class=\"sk-toggleable__control sk-hidden--visually\" id=\"sk-estimator-id-3\" type=\"checkbox\" checked><label for=\"sk-estimator-id-3\" class=\"sk-toggleable__label sk-toggleable__label-arrow\">KNeighborsClassifier</label><div class=\"sk-toggleable__content\"><pre>KNeighborsClassifier(n_neighbors=1)</pre></div></div></div></div></div>"
      ],
      "text/plain": [
       "KNeighborsClassifier(n_neighbors=1)"
      ]
     },
     "execution_count": 24,
     "metadata": {},
     "output_type": "execute_result"
    }
   ],
   "source": [
    "knn.fit(X,y)"
   ]
  },
  {
   "cell_type": "markdown",
   "id": "2b3f478e",
   "metadata": {},
   "source": [
    "step 4 : \n",
    "Predict the response for a new observation\n",
    "New observations are called \"out of sample\" data\n",
    "uses the information it learned during the model training process"
   ]
  },
  {
   "cell_type": "code",
   "execution_count": 28,
   "id": "a25513a1",
   "metadata": {},
   "outputs": [
    {
     "data": {
      "text/plain": [
       "array([2])"
      ]
     },
     "execution_count": 28,
     "metadata": {},
     "output_type": "execute_result"
    }
   ],
   "source": [
    "knn.predict([[3,5,4,2]])\n",
    "\n",
    "### Returns a NumPy Array\n"
   ]
  },
  {
   "cell_type": "code",
   "execution_count": 29,
   "id": "98fddf22",
   "metadata": {},
   "outputs": [
    {
     "data": {
      "text/plain": [
       "array([2, 1])"
      ]
     },
     "execution_count": 29,
     "metadata": {},
     "output_type": "execute_result"
    }
   ],
   "source": [
    "### Can predict for multiple observations at once\n",
    "X_new = [[3,5,4,2],[5,4,3,2]]\n",
    "knn.predict(X_new)"
   ]
  },
  {
   "cell_type": "markdown",
   "id": "ce5ef413",
   "metadata": {},
   "source": [
    "# Using a different value for K"
   ]
  },
  {
   "cell_type": "code",
   "execution_count": 30,
   "id": "53110891",
   "metadata": {},
   "outputs": [
    {
     "data": {
      "text/plain": [
       "array([1, 1])"
      ]
     },
     "execution_count": 30,
     "metadata": {},
     "output_type": "execute_result"
    }
   ],
   "source": [
    "# instantiate the model ( using k value = 5) --- model tunning\n",
    "knn = KNeighborsClassifier(n_neighbors=5)\n",
    "# fitting the model with data\n",
    "knn.fit(X,y)\n",
    "## predicting the value for new observations\n",
    "X_new = [[3,5,4,2],[5,4,3,2]]\n",
    "knn.predict(X_new)"
   ]
  },
  {
   "cell_type": "markdown",
   "id": "c4665fa7",
   "metadata": {},
   "source": [
    "# Using a different classification model"
   ]
  },
  {
   "cell_type": "code",
   "execution_count": 32,
   "id": "88ccbf12",
   "metadata": {},
   "outputs": [
    {
     "name": "stderr",
     "output_type": "stream",
     "text": [
      "C:\\Users\\Anonymous\\AppData\\Local\\Programs\\Python\\Python311\\Lib\\site-packages\\sklearn\\linear_model\\_logistic.py:458: ConvergenceWarning: lbfgs failed to converge (status=1):\n",
      "STOP: TOTAL NO. of ITERATIONS REACHED LIMIT.\n",
      "\n",
      "Increase the number of iterations (max_iter) or scale the data as shown in:\n",
      "    https://scikit-learn.org/stable/modules/preprocessing.html\n",
      "Please also refer to the documentation for alternative solver options:\n",
      "    https://scikit-learn.org/stable/modules/linear_model.html#logistic-regression\n",
      "  n_iter_i = _check_optimize_result(\n"
     ]
    },
    {
     "data": {
      "text/plain": [
       "array([0, 0])"
      ]
     },
     "execution_count": 32,
     "metadata": {},
     "output_type": "execute_result"
    }
   ],
   "source": [
    "## import the class\n",
    "from sklearn.linear_model import LogisticRegression\n",
    "# instantiate the model ( using the default parameters)\n",
    "logreg = LogisticRegression()\n",
    "# fit the model with the data\n",
    "logreg.fit(X,y)\n",
    "# predict the response for the new observations\n",
    "X_new = [[3,5,4,2],[5,4,3,2]]\n",
    "logreg.predict(X_new)"
   ]
  },
  {
   "cell_type": "markdown",
   "id": "1b2c6bdb",
   "metadata": {},
   "source": [
    "Agenda\n",
    "\n",
    "How do I choose which model to use for my supervised learning task?\n",
    "How do I choose the best tuning parameters for that model?\n",
    "How do I estimate the likely performance of my model on out-of-sample data?\n",
    "Review\n",
    "\n",
    "Classification task:\n",
    "\n",
    "Predicting the species of an unknown iris\n",
    "Used three classification models: KNN (K=1), KNN (K=5), logistic regression\n",
    "Need a way to choose between the models"
   ]
  },
  {
   "cell_type": "markdown",
   "id": "b74db13f",
   "metadata": {},
   "source": [
    "# Evaluation procedure \n"
   ]
  },
  {
   "cell_type": "markdown",
   "id": "bcc760c9",
   "metadata": {},
   "source": [
    "#1: Train and test on the entire dataset\n",
    "#2: Test the model on the same dataset and evaluate how well we didi by comparing the predicted response values with the true response values"
   ]
  },
  {
   "cell_type": "code",
   "execution_count": 33,
   "id": "269f7151",
   "metadata": {},
   "outputs": [],
   "source": [
    "# read the dataset\n",
    "from sklearn.datasets import load_iris"
   ]
  },
  {
   "cell_type": "code",
   "execution_count": 35,
   "id": "aa71c41e",
   "metadata": {},
   "outputs": [],
   "source": [
    "iris = load_iris()\n",
    "X = iris.data\n",
    "y = iris.target"
   ]
  },
  {
   "cell_type": "markdown",
   "id": "ea6c9acd",
   "metadata": {},
   "source": [
    "# KNN (k=5)"
   ]
  },
  {
   "cell_type": "code",
   "execution_count": 38,
   "id": "a4f712b2",
   "metadata": {},
   "outputs": [
    {
     "name": "stdout",
     "output_type": "stream",
     "text": [
      "Length of predicted value: [0 0 0 0 0 0 0 0 0 0 0 0 0 0 0 0 0 0 0 0 0 0 0 0 0 0 0 0 0 0 0 0 0 0 0 0 0\n",
      " 0 0 0 0 0 0 0 0 0 0 0 0 0 1 1 1 1 1 1 1 1 1 1 1 1 1 1 1 1 1 1 1 1 2 1 2 1\n",
      " 1 1 1 1 1 1 1 1 1 2 1 1 1 1 1 1 1 1 1 1 1 1 1 1 1 1 2 2 2 2 2 2 1 2 2 2 2\n",
      " 2 2 2 2 2 2 2 2 1 2 2 2 2 2 2 2 2 2 2 2 2 2 2 2 2 2 2 2 2 2 2 2 2 2 2 2 2\n",
      " 2 2]\n",
      "accuracy score :  0.9666666666666667\n"
     ]
    }
   ],
   "source": [
    "#importing the class \n",
    "from sklearn.neighbors import KNeighborsClassifier\n",
    "#instanciate the model with knn(n_neighbors = 1)\n",
    "knn = KNeighborsClassifier(n_neighbors=5)\n",
    "## fitting the model with the data\n",
    "knn.fit(X,y)\n",
    "## predicting the model on the features \n",
    "y_pred = knn.predict(X)\n",
    "## check the length of the prediction values\n",
    "print(\"Length of predicted value:\",y_pred)\n",
    "## model evaluation using accuracy score ( actual value , predicted values)\n",
    "## importing the class \n",
    "from sklearn.metrics import accuracy_score\n",
    "from sklearn import metrics\n",
    "print(\"accuracy score : \",metrics.accuracy_score(y,y_pred))"
   ]
  },
  {
   "cell_type": "markdown",
   "id": "3a9644ef",
   "metadata": {},
   "source": [
    "# Logistic Regression "
   ]
  },
  {
   "cell_type": "code",
   "execution_count": 39,
   "id": "d1626a1b",
   "metadata": {},
   "outputs": [
    {
     "name": "stdout",
     "output_type": "stream",
     "text": [
      "Accuracy Score :  0.9733333333333334\n"
     ]
    },
    {
     "name": "stderr",
     "output_type": "stream",
     "text": [
      "C:\\Users\\Anonymous\\AppData\\Local\\Programs\\Python\\Python311\\Lib\\site-packages\\sklearn\\linear_model\\_logistic.py:458: ConvergenceWarning: lbfgs failed to converge (status=1):\n",
      "STOP: TOTAL NO. of ITERATIONS REACHED LIMIT.\n",
      "\n",
      "Increase the number of iterations (max_iter) or scale the data as shown in:\n",
      "    https://scikit-learn.org/stable/modules/preprocessing.html\n",
      "Please also refer to the documentation for alternative solver options:\n",
      "    https://scikit-learn.org/stable/modules/linear_model.html#logistic-regression\n",
      "  n_iter_i = _check_optimize_result(\n"
     ]
    }
   ],
   "source": [
    "from sklearn.linear_model import LogisticRegression\n",
    "# create instance of the model\n",
    "logreg = LogisticRegression()\n",
    "# fitting the model with data\n",
    "logreg.fit(X,y)\n",
    "# predicting the value\n",
    "y_pred = logreg.predict(X)\n",
    "# check accuracy score \n",
    "print(\"Accuracy Score : \",metrics.accuracy_score(y,y_pred))"
   ]
  },
  {
   "cell_type": "markdown",
   "id": "b325d58f",
   "metadata": {},
   "source": [
    "# KNN (k=1)"
   ]
  },
  {
   "cell_type": "code",
   "execution_count": 40,
   "id": "417ea259",
   "metadata": {},
   "outputs": [
    {
     "name": "stdout",
     "output_type": "stream",
     "text": [
      "accuracy score 1.0\n"
     ]
    }
   ],
   "source": [
    "knn = KNeighborsClassifier(n_neighbors=1)\n",
    "knn.fit(X,y)\n",
    "y_pred = knn.predict(X)\n",
    "print(\"accuracy score\",metrics.accuracy_score(y,y_pred))\n",
    "## accuracy score is 1.0 means 100% accracy because we are using same dataset for training and testing "
   ]
  },
  {
   "cell_type": "markdown",
   "id": "c93e5cb6",
   "metadata": {},
   "source": [
    "# problems with training and testing on the same data"
   ]
  },
  {
   "cell_type": "code",
   "execution_count": 41,
   "id": "aa69ea47",
   "metadata": {},
   "outputs": [],
   "source": [
    "#Goal is to estimate likely performance of a model on out-of-sample data\n",
    "#But, maximizing training accuracy rewards overly complex models that won't necessarily generalize\n",
    "#Unnecessarily complex models overfit the training data"
   ]
  },
  {
   "cell_type": "markdown",
   "id": "af0798e3",
   "metadata": {},
   "source": [
    "# Evaluation procedure #2 : Train/test split"
   ]
  },
  {
   "cell_type": "code",
   "execution_count": 42,
   "id": "22986a21",
   "metadata": {},
   "outputs": [],
   "source": [
    " from sklearn.model_selection import train_test_split"
   ]
  },
  {
   "cell_type": "code",
   "execution_count": 43,
   "id": "2ad61871",
   "metadata": {},
   "outputs": [],
   "source": [
    "## split the data in to train and test \n",
    "X_train,X_test,y_train,y_test = train_test_split(X,y,test_size=0.4,random_state=4)\n",
    "## if we don't use random state & if we run this train_test_split method 4 times it will differently split data every time"
   ]
  },
  {
   "cell_type": "code",
   "execution_count": 44,
   "id": "a3d1395c",
   "metadata": {},
   "outputs": [
    {
     "name": "stdout",
     "output_type": "stream",
     "text": [
      "Accuracy score :  0.9666666666666667\n"
     ]
    }
   ],
   "source": [
    "# logistic regression\n",
    "logreg = LogisticRegression()\n",
    "# fit model\n",
    "logreg.fit(X_train,y_train)\n",
    "# predicting response variable\n",
    "y_pred = logreg.predict(X_test)\n",
    "# calcualte accuracy score \n",
    "print(\"Accuracy score : \",metrics.accuracy_score(y_test,y_pred))"
   ]
  },
  {
   "cell_type": "code",
   "execution_count": 45,
   "id": "72a7d403",
   "metadata": {},
   "outputs": [
    {
     "name": "stdout",
     "output_type": "stream",
     "text": [
      "accuracy score :  0.95\n"
     ]
    }
   ],
   "source": [
    "## KNN ( k = 1)\n",
    "knn = KNeighborsClassifier(n_neighbors=1)\n",
    "knn.fit(X_train,y_train)\n",
    "y_pred = knn.predict(X_test)\n",
    "# calcualte accuracy score \n",
    "print(\"accuracy score : \",metrics.accuracy_score(y_test,y_pred))"
   ]
  },
  {
   "cell_type": "code",
   "execution_count": 46,
   "id": "608d027e",
   "metadata": {},
   "outputs": [
    {
     "name": "stdout",
     "output_type": "stream",
     "text": [
      "Accuracy score : 0.9666666666666667\n"
     ]
    }
   ],
   "source": [
    "## knn(k=5)\n",
    "knn = KNeighborsClassifier(n_neighbors=5)\n",
    "knn.fit(X_train,y_train)\n",
    "y_pred = knn.predict(X_test)\n",
    "## calculate accuracy score \n",
    "print(\"Accuracy score :\",metrics.accuracy_score(y_test,y_pred))"
   ]
  },
  {
   "cell_type": "markdown",
   "id": "e13d6ca7",
   "metadata": {},
   "source": [
    "# Can we locate an even better value for K ?"
   ]
  },
  {
   "cell_type": "code",
   "execution_count": 50,
   "id": "b18276c8",
   "metadata": {},
   "outputs": [],
   "source": [
    "k_values = range(1,26)\n",
    "scores = []\n",
    "for k in k_values:\n",
    "    knn = KNeighborsClassifier(n_neighbors=k)\n",
    "    knn.fit(X_train,y_train)\n",
    "    y_pred = knn.predict(X_test)\n",
    "    scores.append(metrics.accuracy_score(y_test,y_pred))\n"
   ]
  },
  {
   "cell_type": "code",
   "execution_count": 53,
   "id": "9aff3272",
   "metadata": {},
   "outputs": [
    {
     "data": {
      "text/plain": [
       "5"
      ]
     },
     "execution_count": 53,
     "metadata": {},
     "output_type": "execute_result"
    }
   ],
   "source": [
    "scores.index(max(scores))\n",
    "# index of maximum element in a list"
   ]
  },
  {
   "cell_type": "code",
   "execution_count": 54,
   "id": "b1ec1e37",
   "metadata": {},
   "outputs": [
    {
     "data": {
      "text/plain": [
       "[0.95,\n",
       " 0.95,\n",
       " 0.9666666666666667,\n",
       " 0.9666666666666667,\n",
       " 0.9666666666666667,\n",
       " 0.9833333333333333,\n",
       " 0.9833333333333333,\n",
       " 0.9833333333333333,\n",
       " 0.9833333333333333,\n",
       " 0.9833333333333333,\n",
       " 0.9833333333333333,\n",
       " 0.9833333333333333,\n",
       " 0.9833333333333333,\n",
       " 0.9833333333333333,\n",
       " 0.9833333333333333,\n",
       " 0.9833333333333333,\n",
       " 0.9833333333333333,\n",
       " 0.9666666666666667,\n",
       " 0.9833333333333333,\n",
       " 0.9666666666666667,\n",
       " 0.9666666666666667,\n",
       " 0.9666666666666667,\n",
       " 0.9666666666666667,\n",
       " 0.95,\n",
       " 0.95]"
      ]
     },
     "execution_count": 54,
     "metadata": {},
     "output_type": "execute_result"
    }
   ],
   "source": [
    "scores"
   ]
  },
  {
   "cell_type": "code",
   "execution_count": 56,
   "id": "6e113a30",
   "metadata": {},
   "outputs": [
    {
     "data": {
      "text/plain": [
       "5"
      ]
     },
     "execution_count": 56,
     "metadata": {},
     "output_type": "execute_result"
    }
   ],
   "source": [
    "import pandas as pd\n",
    "pd.Series(scores).idxmax()\n",
    "# getting index of a maximum element in Series"
   ]
  },
  {
   "cell_type": "code",
   "execution_count": 57,
   "id": "60667a3c",
   "metadata": {},
   "outputs": [
    {
     "data": {
      "text/plain": [
       "5"
      ]
     },
     "execution_count": 57,
     "metadata": {},
     "output_type": "execute_result"
    }
   ],
   "source": [
    "import numpy as np\n",
    "np.array(scores).argmax()\n",
    "# getting index of a maximum element in a array"
   ]
  },
  {
   "cell_type": "markdown",
   "id": "221cb54a",
   "metadata": {},
   "source": [
    "# plotting the realtionship between K_values and Accuracy"
   ]
  },
  {
   "cell_type": "code",
   "execution_count": 58,
   "id": "ac98712f",
   "metadata": {},
   "outputs": [],
   "source": [
    "import matplotlib.pyplot as plt"
   ]
  },
  {
   "cell_type": "code",
   "execution_count": 59,
   "id": "7fc1792c",
   "metadata": {},
   "outputs": [
    {
     "data": {
      "text/plain": [
       "Text(0, 0.5, 'Testing Accuracy')"
      ]
     },
     "execution_count": 59,
     "metadata": {},
     "output_type": "execute_result"
    },
    {
     "data": {
      "image/png": "[encoded data removed]",
      "text/plain": [
       "<Figure size 640x480 with 1 Axes>"
      ]
     },
     "metadata": {},
     "output_type": "display_data"
    }
   ],
   "source": [
    "plt.plot(k_values,scores)\n",
    "plt.xlabel(\"values of K for KNN\")\n",
    "plt.ylabel(\"Testing Accuracy\")"
   ]
  },
  {
   "cell_type": "markdown",
   "id": "126f1a55",
   "metadata": {},
   "source": [
    "\n",
    "# Downsides of train/test split"
   ]
  },
  {
   "cell_type": "code",
   "execution_count": null,
   "id": "49c07e96",
   "metadata": {},
   "outputs": [],
   "source": [
    "# Provides a high variance estimate of out-of-sample accuracy\n",
    "# K-fold cross validations overcomes this limitations\n",
    "# But train test split is still useful for it's flexibility and speed\n",
    " "
   ]
  }
 ],
 "metadata": {
  "kernelspec": {
   "display_name": "Python 3 (ipykernel)",
   "language": "python",
   "name": "python3"
  },
  "language_info": {
   "codemirror_mode": {
    "name": "ipython",
    "version": 3
   },
   "file_extension": ".py",
   "mimetype": "text/x-python",
   "name": "python",
   "nbconvert_exporter": "python",
   "pygments_lexer": "ipython3",
   "version": "3.11.3"
  }
 },
 "nbformat": 4,
 "nbformat_minor": 5
}
