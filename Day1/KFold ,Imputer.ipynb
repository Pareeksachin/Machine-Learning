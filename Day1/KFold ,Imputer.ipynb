{
 "cells": [
  {
   "cell_type": "code",
   "execution_count": 38,
   "id": "717be366",
   "metadata": {},
   "outputs": [],
   "source": [
    "import pandas as pd \n",
    "from sklearn.linear_model import LinearRegression\n",
    "from sklearn.model_selection import cross_val_score\n",
    "from sklearn.model_selection import train_test_split\n",
    "from sklearn.model_selection import KFold, GridSearchCV,StratifiedKFold\n",
    "from sklearn.preprocessing import PolynomialFeatures\n",
    "from sklearn.metrics import mean_squared_error\n",
    "import matplotlib.pyplot as plt\n",
    "import seaborn as sns\n",
    "import numpy as np \n",
    "from sklearn.impute import SimpleImputer\n",
    "from sklearn.tree import DecisionTreeClassifier"
   ]
  },
  {
   "cell_type": "code",
   "execution_count": 5,
   "id": "981f06c3",
   "metadata": {},
   "outputs": [
    {
     "name": "stdout",
     "output_type": "stream",
     "text": [
      "[ 4.25  4.4  57.6 ]\n",
      "[[ 2.    7.   45.  ]\n",
      " [ 4.    3.   33.  ]\n",
      " [ 4.25  1.   57.6 ]\n",
      " [ 6.    4.4  56.  ]\n",
      " [ 4.25  7.   67.  ]\n",
      " [ 5.    4.   87.  ]]\n"
     ]
    }
   ],
   "source": [
    "a = np.array([[2,7,45],[4,3,33],[np.nan,1,np.nan],[6,np.nan,56],[np.nan,7,67],[5,4,87]])\n",
    "imputer = SimpleImputer(strategy='mean')\n",
    "# commonly used strategies are \"mean,\" \"median,\" \"most_frequent,\" or a constant value.\n",
    "#The missing values in the dataset will be replaced with the imputed values computed during the fitting step.\n",
    "imputer.fit(a)\n",
    "print(imputer.statistics_)\n",
    "#The statistics_ attribute of the SimpleImputer object contains the computed means for each column\n",
    "# You use the transform method of the SimpleImputer to fill in the missing values in the original data a with the computed means\n",
    "print(imputer.transform(a))"
   ]
  },
  {
   "cell_type": "code",
   "execution_count": 6,
   "id": "9511c387",
   "metadata": {},
   "outputs": [
    {
     "data": {
      "text/html": [
       "<div>\n",
       "<style scoped>\n",
       "    .dataframe tbody tr th:only-of-type {\n",
       "        vertical-align: middle;\n",
       "    }\n",
       "\n",
       "    .dataframe tbody tr th {\n",
       "        vertical-align: top;\n",
       "    }\n",
       "\n",
       "    .dataframe thead th {\n",
       "        text-align: right;\n",
       "    }\n",
       "</style>\n",
       "<table border=\"1\" class=\"dataframe\">\n",
       "  <thead>\n",
       "    <tr style=\"text-align: right;\">\n",
       "      <th></th>\n",
       "      <th>Yield</th>\n",
       "      <th>BiologicalMaterial01</th>\n",
       "      <th>BiologicalMaterial02</th>\n",
       "      <th>BiologicalMaterial03</th>\n",
       "      <th>BiologicalMaterial04</th>\n",
       "      <th>BiologicalMaterial05</th>\n",
       "      <th>BiologicalMaterial06</th>\n",
       "      <th>BiologicalMaterial07</th>\n",
       "      <th>BiologicalMaterial08</th>\n",
       "      <th>BiologicalMaterial09</th>\n",
       "      <th>...</th>\n",
       "      <th>ManufacturingProcess36</th>\n",
       "      <th>ManufacturingProcess37</th>\n",
       "      <th>ManufacturingProcess38</th>\n",
       "      <th>ManufacturingProcess39</th>\n",
       "      <th>ManufacturingProcess40</th>\n",
       "      <th>ManufacturingProcess41</th>\n",
       "      <th>ManufacturingProcess42</th>\n",
       "      <th>ManufacturingProcess43</th>\n",
       "      <th>ManufacturingProcess44</th>\n",
       "      <th>ManufacturingProcess45</th>\n",
       "    </tr>\n",
       "  </thead>\n",
       "  <tbody>\n",
       "    <tr>\n",
       "      <th>0</th>\n",
       "      <td>38.00</td>\n",
       "      <td>6.25</td>\n",
       "      <td>49.58</td>\n",
       "      <td>56.97</td>\n",
       "      <td>12.74</td>\n",
       "      <td>19.51</td>\n",
       "      <td>43.73</td>\n",
       "      <td>100.0</td>\n",
       "      <td>16.66</td>\n",
       "      <td>11.44</td>\n",
       "      <td>...</td>\n",
       "      <td>0.019</td>\n",
       "      <td>0.5</td>\n",
       "      <td>3</td>\n",
       "      <td>7.2</td>\n",
       "      <td>NaN</td>\n",
       "      <td>NaN</td>\n",
       "      <td>11.6</td>\n",
       "      <td>3.0</td>\n",
       "      <td>1.8</td>\n",
       "      <td>2.4</td>\n",
       "    </tr>\n",
       "    <tr>\n",
       "      <th>1</th>\n",
       "      <td>42.44</td>\n",
       "      <td>8.01</td>\n",
       "      <td>60.97</td>\n",
       "      <td>67.48</td>\n",
       "      <td>14.65</td>\n",
       "      <td>19.36</td>\n",
       "      <td>53.14</td>\n",
       "      <td>100.0</td>\n",
       "      <td>19.04</td>\n",
       "      <td>12.55</td>\n",
       "      <td>...</td>\n",
       "      <td>0.019</td>\n",
       "      <td>2.0</td>\n",
       "      <td>2</td>\n",
       "      <td>7.2</td>\n",
       "      <td>0.1</td>\n",
       "      <td>0.15</td>\n",
       "      <td>11.1</td>\n",
       "      <td>0.9</td>\n",
       "      <td>1.9</td>\n",
       "      <td>2.2</td>\n",
       "    </tr>\n",
       "    <tr>\n",
       "      <th>2</th>\n",
       "      <td>42.03</td>\n",
       "      <td>8.01</td>\n",
       "      <td>60.97</td>\n",
       "      <td>67.48</td>\n",
       "      <td>14.65</td>\n",
       "      <td>19.36</td>\n",
       "      <td>53.14</td>\n",
       "      <td>100.0</td>\n",
       "      <td>19.04</td>\n",
       "      <td>12.55</td>\n",
       "      <td>...</td>\n",
       "      <td>0.018</td>\n",
       "      <td>0.7</td>\n",
       "      <td>2</td>\n",
       "      <td>7.2</td>\n",
       "      <td>0.0</td>\n",
       "      <td>0.00</td>\n",
       "      <td>12.0</td>\n",
       "      <td>1.0</td>\n",
       "      <td>1.8</td>\n",
       "      <td>2.3</td>\n",
       "    </tr>\n",
       "    <tr>\n",
       "      <th>3</th>\n",
       "      <td>41.42</td>\n",
       "      <td>8.01</td>\n",
       "      <td>60.97</td>\n",
       "      <td>67.48</td>\n",
       "      <td>14.65</td>\n",
       "      <td>19.36</td>\n",
       "      <td>53.14</td>\n",
       "      <td>100.0</td>\n",
       "      <td>19.04</td>\n",
       "      <td>12.55</td>\n",
       "      <td>...</td>\n",
       "      <td>0.018</td>\n",
       "      <td>1.2</td>\n",
       "      <td>2</td>\n",
       "      <td>7.2</td>\n",
       "      <td>0.0</td>\n",
       "      <td>0.00</td>\n",
       "      <td>10.6</td>\n",
       "      <td>1.1</td>\n",
       "      <td>1.8</td>\n",
       "      <td>2.1</td>\n",
       "    </tr>\n",
       "    <tr>\n",
       "      <th>4</th>\n",
       "      <td>42.49</td>\n",
       "      <td>7.47</td>\n",
       "      <td>63.33</td>\n",
       "      <td>72.25</td>\n",
       "      <td>14.02</td>\n",
       "      <td>17.91</td>\n",
       "      <td>54.66</td>\n",
       "      <td>100.0</td>\n",
       "      <td>18.22</td>\n",
       "      <td>12.80</td>\n",
       "      <td>...</td>\n",
       "      <td>0.017</td>\n",
       "      <td>0.2</td>\n",
       "      <td>2</td>\n",
       "      <td>7.3</td>\n",
       "      <td>0.0</td>\n",
       "      <td>0.00</td>\n",
       "      <td>11.0</td>\n",
       "      <td>1.1</td>\n",
       "      <td>1.7</td>\n",
       "      <td>2.1</td>\n",
       "    </tr>\n",
       "    <tr>\n",
       "      <th>...</th>\n",
       "      <td>...</td>\n",
       "      <td>...</td>\n",
       "      <td>...</td>\n",
       "      <td>...</td>\n",
       "      <td>...</td>\n",
       "      <td>...</td>\n",
       "      <td>...</td>\n",
       "      <td>...</td>\n",
       "      <td>...</td>\n",
       "      <td>...</td>\n",
       "      <td>...</td>\n",
       "      <td>...</td>\n",
       "      <td>...</td>\n",
       "      <td>...</td>\n",
       "      <td>...</td>\n",
       "      <td>...</td>\n",
       "      <td>...</td>\n",
       "      <td>...</td>\n",
       "      <td>...</td>\n",
       "      <td>...</td>\n",
       "      <td>...</td>\n",
       "    </tr>\n",
       "    <tr>\n",
       "      <th>171</th>\n",
       "      <td>39.66</td>\n",
       "      <td>6.71</td>\n",
       "      <td>56.32</td>\n",
       "      <td>66.19</td>\n",
       "      <td>12.35</td>\n",
       "      <td>20.02</td>\n",
       "      <td>50.26</td>\n",
       "      <td>100.0</td>\n",
       "      <td>17.54</td>\n",
       "      <td>12.50</td>\n",
       "      <td>...</td>\n",
       "      <td>NaN</td>\n",
       "      <td>2.3</td>\n",
       "      <td>0</td>\n",
       "      <td>0.0</td>\n",
       "      <td>0.0</td>\n",
       "      <td>0.00</td>\n",
       "      <td>0.0</td>\n",
       "      <td>0.6</td>\n",
       "      <td>0.0</td>\n",
       "      <td>0.0</td>\n",
       "    </tr>\n",
       "    <tr>\n",
       "      <th>172</th>\n",
       "      <td>39.68</td>\n",
       "      <td>6.87</td>\n",
       "      <td>56.74</td>\n",
       "      <td>66.61</td>\n",
       "      <td>12.55</td>\n",
       "      <td>20.18</td>\n",
       "      <td>50.80</td>\n",
       "      <td>100.0</td>\n",
       "      <td>17.48</td>\n",
       "      <td>12.41</td>\n",
       "      <td>...</td>\n",
       "      <td>NaN</td>\n",
       "      <td>1.0</td>\n",
       "      <td>0</td>\n",
       "      <td>0.0</td>\n",
       "      <td>0.0</td>\n",
       "      <td>0.00</td>\n",
       "      <td>0.0</td>\n",
       "      <td>0.6</td>\n",
       "      <td>0.0</td>\n",
       "      <td>0.0</td>\n",
       "    </tr>\n",
       "    <tr>\n",
       "      <th>173</th>\n",
       "      <td>42.23</td>\n",
       "      <td>7.50</td>\n",
       "      <td>58.41</td>\n",
       "      <td>68.30</td>\n",
       "      <td>13.33</td>\n",
       "      <td>20.81</td>\n",
       "      <td>52.96</td>\n",
       "      <td>100.0</td>\n",
       "      <td>17.23</td>\n",
       "      <td>12.04</td>\n",
       "      <td>...</td>\n",
       "      <td>NaN</td>\n",
       "      <td>1.3</td>\n",
       "      <td>0</td>\n",
       "      <td>0.0</td>\n",
       "      <td>0.0</td>\n",
       "      <td>0.00</td>\n",
       "      <td>0.0</td>\n",
       "      <td>0.6</td>\n",
       "      <td>0.0</td>\n",
       "      <td>0.0</td>\n",
       "    </tr>\n",
       "    <tr>\n",
       "      <th>174</th>\n",
       "      <td>38.48</td>\n",
       "      <td>7.53</td>\n",
       "      <td>58.36</td>\n",
       "      <td>69.25</td>\n",
       "      <td>14.35</td>\n",
       "      <td>20.57</td>\n",
       "      <td>51.31</td>\n",
       "      <td>100.0</td>\n",
       "      <td>17.87</td>\n",
       "      <td>12.77</td>\n",
       "      <td>...</td>\n",
       "      <td>NaN</td>\n",
       "      <td>2.3</td>\n",
       "      <td>0</td>\n",
       "      <td>0.0</td>\n",
       "      <td>0.0</td>\n",
       "      <td>0.00</td>\n",
       "      <td>0.0</td>\n",
       "      <td>0.5</td>\n",
       "      <td>0.0</td>\n",
       "      <td>0.0</td>\n",
       "    </tr>\n",
       "    <tr>\n",
       "      <th>175</th>\n",
       "      <td>39.49</td>\n",
       "      <td>7.53</td>\n",
       "      <td>58.36</td>\n",
       "      <td>69.25</td>\n",
       "      <td>14.35</td>\n",
       "      <td>20.57</td>\n",
       "      <td>51.31</td>\n",
       "      <td>100.0</td>\n",
       "      <td>17.87</td>\n",
       "      <td>12.77</td>\n",
       "      <td>...</td>\n",
       "      <td>NaN</td>\n",
       "      <td>0.9</td>\n",
       "      <td>0</td>\n",
       "      <td>0.0</td>\n",
       "      <td>0.0</td>\n",
       "      <td>0.00</td>\n",
       "      <td>0.0</td>\n",
       "      <td>0.6</td>\n",
       "      <td>0.0</td>\n",
       "      <td>0.0</td>\n",
       "    </tr>\n",
       "  </tbody>\n",
       "</table>\n",
       "<p>176 rows × 58 columns</p>\n",
       "</div>"
      ],
      "text/plain": [
       "     Yield  BiologicalMaterial01  BiologicalMaterial02  BiologicalMaterial03  \\\n",
       "0    38.00                  6.25                 49.58                 56.97   \n",
       "1    42.44                  8.01                 60.97                 67.48   \n",
       "2    42.03                  8.01                 60.97                 67.48   \n",
       "3    41.42                  8.01                 60.97                 67.48   \n",
       "4    42.49                  7.47                 63.33                 72.25   \n",
       "..     ...                   ...                   ...                   ...   \n",
       "171  39.66                  6.71                 56.32                 66.19   \n",
       "172  39.68                  6.87                 56.74                 66.61   \n",
       "173  42.23                  7.50                 58.41                 68.30   \n",
       "174  38.48                  7.53                 58.36                 69.25   \n",
       "175  39.49                  7.53                 58.36                 69.25   \n",
       "\n",
       "     BiologicalMaterial04  BiologicalMaterial05  BiologicalMaterial06  \\\n",
       "0                   12.74                 19.51                 43.73   \n",
       "1                   14.65                 19.36                 53.14   \n",
       "2                   14.65                 19.36                 53.14   \n",
       "3                   14.65                 19.36                 53.14   \n",
       "4                   14.02                 17.91                 54.66   \n",
       "..                    ...                   ...                   ...   \n",
       "171                 12.35                 20.02                 50.26   \n",
       "172                 12.55                 20.18                 50.80   \n",
       "173                 13.33                 20.81                 52.96   \n",
       "174                 14.35                 20.57                 51.31   \n",
       "175                 14.35                 20.57                 51.31   \n",
       "\n",
       "     BiologicalMaterial07  BiologicalMaterial08  BiologicalMaterial09  ...  \\\n",
       "0                   100.0                 16.66                 11.44  ...   \n",
       "1                   100.0                 19.04                 12.55  ...   \n",
       "2                   100.0                 19.04                 12.55  ...   \n",
       "3                   100.0                 19.04                 12.55  ...   \n",
       "4                   100.0                 18.22                 12.80  ...   \n",
       "..                    ...                   ...                   ...  ...   \n",
       "171                 100.0                 17.54                 12.50  ...   \n",
       "172                 100.0                 17.48                 12.41  ...   \n",
       "173                 100.0                 17.23                 12.04  ...   \n",
       "174                 100.0                 17.87                 12.77  ...   \n",
       "175                 100.0                 17.87                 12.77  ...   \n",
       "\n",
       "     ManufacturingProcess36  ManufacturingProcess37  ManufacturingProcess38  \\\n",
       "0                     0.019                     0.5                       3   \n",
       "1                     0.019                     2.0                       2   \n",
       "2                     0.018                     0.7                       2   \n",
       "3                     0.018                     1.2                       2   \n",
       "4                     0.017                     0.2                       2   \n",
       "..                      ...                     ...                     ...   \n",
       "171                     NaN                     2.3                       0   \n",
       "172                     NaN                     1.0                       0   \n",
       "173                     NaN                     1.3                       0   \n",
       "174                     NaN                     2.3                       0   \n",
       "175                     NaN                     0.9                       0   \n",
       "\n",
       "     ManufacturingProcess39  ManufacturingProcess40  ManufacturingProcess41  \\\n",
       "0                       7.2                     NaN                     NaN   \n",
       "1                       7.2                     0.1                    0.15   \n",
       "2                       7.2                     0.0                    0.00   \n",
       "3                       7.2                     0.0                    0.00   \n",
       "4                       7.3                     0.0                    0.00   \n",
       "..                      ...                     ...                     ...   \n",
       "171                     0.0                     0.0                    0.00   \n",
       "172                     0.0                     0.0                    0.00   \n",
       "173                     0.0                     0.0                    0.00   \n",
       "174                     0.0                     0.0                    0.00   \n",
       "175                     0.0                     0.0                    0.00   \n",
       "\n",
       "     ManufacturingProcess42  ManufacturingProcess43  ManufacturingProcess44  \\\n",
       "0                      11.6                     3.0                     1.8   \n",
       "1                      11.1                     0.9                     1.9   \n",
       "2                      12.0                     1.0                     1.8   \n",
       "3                      10.6                     1.1                     1.8   \n",
       "4                      11.0                     1.1                     1.7   \n",
       "..                      ...                     ...                     ...   \n",
       "171                     0.0                     0.6                     0.0   \n",
       "172                     0.0                     0.6                     0.0   \n",
       "173                     0.0                     0.6                     0.0   \n",
       "174                     0.0                     0.5                     0.0   \n",
       "175                     0.0                     0.6                     0.0   \n",
       "\n",
       "     ManufacturingProcess45  \n",
       "0                       2.4  \n",
       "1                       2.2  \n",
       "2                       2.3  \n",
       "3                       2.1  \n",
       "4                       2.1  \n",
       "..                      ...  \n",
       "171                     0.0  \n",
       "172                     0.0  \n",
       "173                     0.0  \n",
       "174                     0.0  \n",
       "175                     0.0  \n",
       "\n",
       "[176 rows x 58 columns]"
      ]
     },
     "execution_count": 6,
     "metadata": {},
     "output_type": "execute_result"
    }
   ],
   "source": [
    "#################### Chemical Process \n",
    "chemical = pd.read_csv(r\"C:\\Users\\Anonymous\\Desktop\\Machine Learning\\Cases\\Chemical Process Data\\ChemicalProcess.csv\")\n",
    "chemical"
   ]
  },
  {
   "cell_type": "code",
   "execution_count": 41,
   "id": "1ef7d9ce",
   "metadata": {
    "scrolled": true
   },
   "outputs": [],
   "source": [
    "#print(chemical.isnull().sum())"
   ]
  },
  {
   "cell_type": "code",
   "execution_count": 9,
   "id": "f87f9803",
   "metadata": {},
   "outputs": [],
   "source": [
    "X = chemical.drop('Yield',axis = 1)\n",
    "y = chemical['Yield']"
   ]
  },
  {
   "cell_type": "code",
   "execution_count": 10,
   "id": "e3a67f4d",
   "metadata": {},
   "outputs": [],
   "source": [
    "X_train,X_test,y_train,y_test = train_test_split(X,y,test_size=0.3,random_state=23)\n",
    "imputer = SimpleImputer()\n",
    "imp_X_train = imputer.fit_transform(X_train)\n",
    "imp_X_test = imputer.transform(X_test)"
   ]
  },
  {
   "cell_type": "markdown",
   "id": "f27d2823",
   "metadata": {},
   "source": [
    "Polynomial features refer to the process of creating new features by taking polynomial combinations of the original features in a dataset. This technique is used to capture non-linear relationships between features and the target variable, which can improve the performance of certain machine learning models when dealing with non-linear data."
   ]
  },
  {
   "cell_type": "code",
   "execution_count": 13,
   "id": "ad6eda3e",
   "metadata": {},
   "outputs": [],
   "source": [
    "poly = PolynomialFeatures(degree = 2)\n",
    "X_train_poly = poly.fit_transform(imp_X_train)\n",
    "X_test_poly = poly.transform(imp_X_test)"
   ]
  },
  {
   "cell_type": "code",
   "execution_count": 14,
   "id": "6b9efca4",
   "metadata": {},
   "outputs": [
    {
     "data": {
      "text/plain": [
       "array([[ 1.  ,  6.35, 56.93, ...,  4.  ,  4.6 ,  5.29],\n",
       "       [ 1.  ,  5.9 , 51.37, ...,  3.61,  4.37,  5.29],\n",
       "       [ 1.  ,  5.85, 51.75, ...,  3.61,  4.37,  5.29],\n",
       "       ...,\n",
       "       [ 1.  ,  6.87, 56.74, ...,  0.  ,  0.  ,  0.  ],\n",
       "       [ 1.  ,  6.39, 58.85, ...,  4.  ,  4.6 ,  5.29],\n",
       "       [ 1.  ,  6.23, 62.93, ...,  3.61,  3.8 ,  4.  ]])"
      ]
     },
     "execution_count": 14,
     "metadata": {},
     "output_type": "execute_result"
    }
   ],
   "source": [
    "X_train_poly\n",
    "X_test_poly"
   ]
  },
  {
   "cell_type": "code",
   "execution_count": 16,
   "id": "9c789555",
   "metadata": {},
   "outputs": [
    {
     "name": "stdout",
     "output_type": "stream",
     "text": [
      "43.06035764793109\n"
     ]
    }
   ],
   "source": [
    "lr = LinearRegression()\n",
    "lr.fit(X_train_poly,y_train)\n",
    "y_pred = lr.predict(X_test_poly)\n",
    "print(mean_squared_error(y_test,y_pred))\n",
    "#lower MSE indicates better performance\n",
    "## regression tasks like this, Mean Squared Error (MSE) is commonly used as the evaluation \n",
    "########## metric. You can also consider other metrics like R-squared (Coefficient of Determination), Mean Absolute Error (MAE), or Root Mean Squared Error (RMSE) depending on the problem's requirements."
   ]
  },
  {
   "cell_type": "code",
   "execution_count": 17,
   "id": "4a25a783",
   "metadata": {},
   "outputs": [
    {
     "name": "stdout",
     "output_type": "stream",
     "text": [
      "1.5916891915034246\n"
     ]
    }
   ],
   "source": [
    "lr = LinearRegression()\n",
    "lr.fit(imp_X_train,y_train)\n",
    "y_pred = lr.predict(imp_X_test)\n",
    "print(mean_squared_error(y_test,y_pred))\n",
    "#lower MSE indicates better performance"
   ]
  },
  {
   "cell_type": "markdown",
   "id": "96a80585",
   "metadata": {},
   "source": [
    "### to optimize this \n",
    "\n",
    "To optimize the linear regression model, you can consider several approaches:\n",
    "\n",
    "Feature Selection: Not all polynomial features may contribute significantly to the model's performance. You can try different feature selection techniques to identify the most relevant features and remove less important ones. Feature selection can help reduce overfitting and improve model interpretability.\n",
    "\n",
    "Regularization: Regularization techniques like Ridge Regression or Lasso Regression can help control model complexity and prevent overfitting. They add a penalty term to the linear regression objective function, encouraging the model to use only essential features or shrink the coefficients of less important features.\n",
    "\n",
    "Feature Scaling: Ensure that the features are scaled appropriately before applying polynomial transformation. Some regularization techniques are sensitive to the scale of features, so standardizing the features can help improve model convergence and stability.\n",
    "\n",
    "Hyperparameter Tuning: In some cases, the degree of polynomial features may not be optimized. You can perform hyperparameter tuning to find the optimal degree of polynomial features that provides the best trade-off between bias and variance.\n",
    "\n",
    "Cross-Validation: Use cross-validation to evaluate the model's performance on different subsets of the data. This helps ensure that the model generalizes well to unseen data and avoids overfitting.\n",
    "\n",
    "Feature Engineering: Consider other feature engineering techniques like interaction terms, binning, or logarithmic transformations if they are relevant to the problem domain.\n",
    "\n",
    "Ensemble Methods: Try ensemble methods like Random Forest or Gradient Boosting, which can handle non-linear relationships and interactions between features effectively.\n",
    "\n",
    "Data Preprocessing: Clean the data and handle missing values appropriately. Impute missing values or remove irrelevant features to improve model performance.\n",
    "\n",
    "Handling Outliers: Address outliers in the dataset, as they can have a significant impact on the model's performance. Consider using robust regression techniques or preprocessing the data to handle outliers."
   ]
  },
  {
   "cell_type": "code",
   "execution_count": 20,
   "id": "ce70e4ee",
   "metadata": {},
   "outputs": [
    {
     "name": "stdout",
     "output_type": "stream",
     "text": [
      "43.06035764793109\n"
     ]
    }
   ],
   "source": [
    "### we have applied simpleIMputer , polynomial , Linear Regression in a single pipeline\n",
    "from sklearn.pipeline import Pipeline \n",
    "imputer = SimpleImputer()\n",
    "poly = PolynomialFeatures(degree =2)\n",
    "lr = LinearRegression()\n",
    "\n",
    "pipe = Pipeline([('IMPUTER',imputer),('POLY',poly),('LR',lr)])\n",
    "pipe.fit(X_train,y_train)\n",
    "y_pred = pipe.predict(X_test)\n",
    "print(mean_squared_error(y_test,y_pred))"
   ]
  },
  {
   "cell_type": "code",
   "execution_count": 21,
   "id": "7f9edc6c",
   "metadata": {},
   "outputs": [
    {
     "data": {
      "text/html": [
       "<style>#sk-container-id-1 {color: black;background-color: white;}#sk-container-id-1 pre{padding: 0;}#sk-container-id-1 div.sk-toggleable {background-color: white;}#sk-container-id-1 label.sk-toggleable__label {cursor: pointer;display: block;width: 100%;margin-bottom: 0;padding: 0.3em;box-sizing: border-box;text-align: center;}#sk-container-id-1 label.sk-toggleable__label-arrow:before {content: \"▸\";float: left;margin-right: 0.25em;color: #696969;}#sk-container-id-1 label.sk-toggleable__label-arrow:hover:before {color: black;}#sk-container-id-1 div.sk-estimator:hover label.sk-toggleable__label-arrow:before {color: black;}#sk-container-id-1 div.sk-toggleable__content {max-height: 0;max-width: 0;overflow: hidden;text-align: left;background-color: #f0f8ff;}#sk-container-id-1 div.sk-toggleable__content pre {margin: 0.2em;color: black;border-radius: 0.25em;background-color: #f0f8ff;}#sk-container-id-1 input.sk-toggleable__control:checked~div.sk-toggleable__content {max-height: 200px;max-width: 100%;overflow: auto;}#sk-container-id-1 input.sk-toggleable__control:checked~label.sk-toggleable__label-arrow:before {content: \"▾\";}#sk-container-id-1 div.sk-estimator input.sk-toggleable__control:checked~label.sk-toggleable__label {background-color: #d4ebff;}#sk-container-id-1 div.sk-label input.sk-toggleable__control:checked~label.sk-toggleable__label {background-color: #d4ebff;}#sk-container-id-1 input.sk-hidden--visually {border: 0;clip: rect(1px 1px 1px 1px);clip: rect(1px, 1px, 1px, 1px);height: 1px;margin: -1px;overflow: hidden;padding: 0;position: absolute;width: 1px;}#sk-container-id-1 div.sk-estimator {font-family: monospace;background-color: #f0f8ff;border: 1px dotted black;border-radius: 0.25em;box-sizing: border-box;margin-bottom: 0.5em;}#sk-container-id-1 div.sk-estimator:hover {background-color: #d4ebff;}#sk-container-id-1 div.sk-parallel-item::after {content: \"\";width: 100%;border-bottom: 1px solid gray;flex-grow: 1;}#sk-container-id-1 div.sk-label:hover label.sk-toggleable__label {background-color: #d4ebff;}#sk-container-id-1 div.sk-serial::before {content: \"\";position: absolute;border-left: 1px solid gray;box-sizing: border-box;top: 0;bottom: 0;left: 50%;z-index: 0;}#sk-container-id-1 div.sk-serial {display: flex;flex-direction: column;align-items: center;background-color: white;padding-right: 0.2em;padding-left: 0.2em;position: relative;}#sk-container-id-1 div.sk-item {position: relative;z-index: 1;}#sk-container-id-1 div.sk-parallel {display: flex;align-items: stretch;justify-content: center;background-color: white;position: relative;}#sk-container-id-1 div.sk-item::before, #sk-container-id-1 div.sk-parallel-item::before {content: \"\";position: absolute;border-left: 1px solid gray;box-sizing: border-box;top: 0;bottom: 0;left: 50%;z-index: -1;}#sk-container-id-1 div.sk-parallel-item {display: flex;flex-direction: column;z-index: 1;position: relative;background-color: white;}#sk-container-id-1 div.sk-parallel-item:first-child::after {align-self: flex-end;width: 50%;}#sk-container-id-1 div.sk-parallel-item:last-child::after {align-self: flex-start;width: 50%;}#sk-container-id-1 div.sk-parallel-item:only-child::after {width: 0;}#sk-container-id-1 div.sk-dashed-wrapped {border: 1px dashed gray;margin: 0 0.4em 0.5em 0.4em;box-sizing: border-box;padding-bottom: 0.4em;background-color: white;}#sk-container-id-1 div.sk-label label {font-family: monospace;font-weight: bold;display: inline-block;line-height: 1.2em;}#sk-container-id-1 div.sk-label-container {text-align: center;}#sk-container-id-1 div.sk-container {/* jupyter's `normalize.less` sets `[hidden] { display: none; }` but bootstrap.min.css set `[hidden] { display: none !important; }` so we also need the `!important` here to be able to override the default hidden behavior on the sphinx rendered scikit-learn.org. See: https://github.com/scikit-learn/scikit-learn/issues/21755 */display: inline-block !important;position: relative;}#sk-container-id-1 div.sk-text-repr-fallback {display: none;}</style><div id=\"sk-container-id-1\" class=\"sk-top-container\"><div class=\"sk-text-repr-fallback\"><pre>Pipeline(steps=[(&#x27;IMPUTER&#x27;, SimpleImputer()), (&#x27;POLY&#x27;, PolynomialFeatures()),\n",
       "                (&#x27;LR&#x27;, LinearRegression())])</pre><b>In a Jupyter environment, please rerun this cell to show the HTML representation or trust the notebook. <br />On GitHub, the HTML representation is unable to render, please try loading this page with nbviewer.org.</b></div><div class=\"sk-container\" hidden><div class=\"sk-item sk-dashed-wrapped\"><div class=\"sk-label-container\"><div class=\"sk-label sk-toggleable\"><input class=\"sk-toggleable__control sk-hidden--visually\" id=\"sk-estimator-id-1\" type=\"checkbox\" ><label for=\"sk-estimator-id-1\" class=\"sk-toggleable__label sk-toggleable__label-arrow\">Pipeline</label><div class=\"sk-toggleable__content\"><pre>Pipeline(steps=[(&#x27;IMPUTER&#x27;, SimpleImputer()), (&#x27;POLY&#x27;, PolynomialFeatures()),\n",
       "                (&#x27;LR&#x27;, LinearRegression())])</pre></div></div></div><div class=\"sk-serial\"><div class=\"sk-item\"><div class=\"sk-estimator sk-toggleable\"><input class=\"sk-toggleable__control sk-hidden--visually\" id=\"sk-estimator-id-2\" type=\"checkbox\" ><label for=\"sk-estimator-id-2\" class=\"sk-toggleable__label sk-toggleable__label-arrow\">SimpleImputer</label><div class=\"sk-toggleable__content\"><pre>SimpleImputer()</pre></div></div></div><div class=\"sk-item\"><div class=\"sk-estimator sk-toggleable\"><input class=\"sk-toggleable__control sk-hidden--visually\" id=\"sk-estimator-id-3\" type=\"checkbox\" ><label for=\"sk-estimator-id-3\" class=\"sk-toggleable__label sk-toggleable__label-arrow\">PolynomialFeatures</label><div class=\"sk-toggleable__content\"><pre>PolynomialFeatures()</pre></div></div></div><div class=\"sk-item\"><div class=\"sk-estimator sk-toggleable\"><input class=\"sk-toggleable__control sk-hidden--visually\" id=\"sk-estimator-id-4\" type=\"checkbox\" ><label for=\"sk-estimator-id-4\" class=\"sk-toggleable__label sk-toggleable__label-arrow\">LinearRegression</label><div class=\"sk-toggleable__content\"><pre>LinearRegression()</pre></div></div></div></div></div></div></div>"
      ],
      "text/plain": [
       "Pipeline(steps=[('IMPUTER', SimpleImputer()), ('POLY', PolynomialFeatures()),\n",
       "                ('LR', LinearRegression())])"
      ]
     },
     "execution_count": 21,
     "metadata": {},
     "output_type": "execute_result"
    }
   ],
   "source": [
    "pipe"
   ]
  },
  {
   "cell_type": "code",
   "execution_count": 22,
   "id": "d7717e14",
   "metadata": {},
   "outputs": [
    {
     "name": "stdout",
     "output_type": "stream",
     "text": [
      "<bound method Pipeline.get_params of Pipeline(steps=[('IMPUTER', SimpleImputer()), ('POLY', PolynomialFeatures()),\n",
      "                ('LR', LinearRegression())])>\n"
     ]
    }
   ],
   "source": [
    "#### Grid Search CV with Pipeline\n",
    "\n",
    "kfold = KFold(n_splits=5,shuffle=True,random_state=23)\n",
    "imputer = SimpleImputer()\n",
    "poly = PolynomialFeatures()\n",
    "lr = LinearRegression()\n",
    "pipe = Pipeline([('IMPUTER',imputer),('POLY',poly),('LR',lr)])\n",
    "print(pipe.get_params)"
   ]
  },
  {
   "cell_type": "code",
   "execution_count": 23,
   "id": "5cec84aa",
   "metadata": {},
   "outputs": [
    {
     "name": "stdout",
     "output_type": "stream",
     "text": [
      "Fitting 5 folds for each of 6 candidates, totalling 30 fits\n",
      "[CV 1/5] END IMPUTER__strategy=mean, POLY__degree=1;, score=-5.551 total time=   0.0s\n",
      "[CV 2/5] END IMPUTER__strategy=mean, POLY__degree=1;, score=-1.957 total time=   0.0s\n",
      "[CV 3/5] END IMPUTER__strategy=mean, POLY__degree=1;, score=-84.655 total time=   0.0s\n",
      "[CV 4/5] END IMPUTER__strategy=mean, POLY__degree=1;, score=-5.076 total time=   0.0s\n",
      "[CV 5/5] END IMPUTER__strategy=mean, POLY__degree=1;, score=-68.181 total time=   0.0s\n",
      "[CV 1/5] END IMPUTER__strategy=mean, POLY__degree=2;, score=-26.882 total time=   0.2s\n",
      "[CV 2/5] END IMPUTER__strategy=mean, POLY__degree=2;, score=-9.458 total time=   0.2s\n",
      "[CV 3/5] END IMPUTER__strategy=mean, POLY__degree=2;, score=-16207683.429 total time=   0.2s\n",
      "[CV 4/5] END IMPUTER__strategy=mean, POLY__degree=2;, score=-368.073 total time=   0.2s\n",
      "[CV 5/5] END IMPUTER__strategy=mean, POLY__degree=2;, score=-700830.422 total time=   0.2s\n",
      "[CV 1/5] END IMPUTER__strategy=mean, POLY__degree=3;, score=-24.738 total time=   1.5s\n",
      "[CV 2/5] END IMPUTER__strategy=mean, POLY__degree=3;, score=-7.537 total time=   1.4s\n",
      "[CV 3/5] END IMPUTER__strategy=mean, POLY__degree=3;, score=-5394647.304 total time=   1.4s\n",
      "[CV 4/5] END IMPUTER__strategy=mean, POLY__degree=3;, score=-136.712 total time=   1.2s\n",
      "[CV 5/5] END IMPUTER__strategy=mean, POLY__degree=3;, score=-302685.254 total time=   1.3s\n",
      "[CV 1/5] END IMPUTER__strategy=median, POLY__degree=1;, score=-4.363 total time=   0.0s\n",
      "[CV 2/5] END IMPUTER__strategy=median, POLY__degree=1;, score=-1.906 total time=   0.0s\n",
      "[CV 3/5] END IMPUTER__strategy=median, POLY__degree=1;, score=-63.943 total time=   0.0s\n",
      "[CV 4/5] END IMPUTER__strategy=median, POLY__degree=1;, score=-5.766 total time=   0.0s\n",
      "[CV 5/5] END IMPUTER__strategy=median, POLY__degree=1;, score=-34.613 total time=   0.0s\n",
      "[CV 1/5] END IMPUTER__strategy=median, POLY__degree=2;, score=-26.575 total time=   0.2s\n",
      "[CV 2/5] END IMPUTER__strategy=median, POLY__degree=2;, score=-9.447 total time=   0.2s\n",
      "[CV 3/5] END IMPUTER__strategy=median, POLY__degree=2;, score=-8023902.323 total time=   0.1s\n",
      "[CV 4/5] END IMPUTER__strategy=median, POLY__degree=2;, score=-10.251 total time=   0.2s\n",
      "[CV 5/5] END IMPUTER__strategy=median, POLY__degree=2;, score=-3756217.177 total time=   0.2s\n",
      "[CV 1/5] END IMPUTER__strategy=median, POLY__degree=3;, score=-24.588 total time=   1.3s\n",
      "[CV 2/5] END IMPUTER__strategy=median, POLY__degree=3;, score=-7.919 total time=   1.3s\n",
      "[CV 3/5] END IMPUTER__strategy=median, POLY__degree=3;, score=-2538364.441 total time=   1.4s\n",
      "[CV 4/5] END IMPUTER__strategy=median, POLY__degree=3;, score=-9.742 total time=   1.4s\n",
      "[CV 5/5] END IMPUTER__strategy=median, POLY__degree=3;, score=-2144935.530 total time=   1.3s\n",
      "{'IMPUTER__strategy': 'median', 'POLY__degree': 1}\n",
      "-22.118213715519765\n"
     ]
    }
   ],
   "source": [
    "params = {'IMPUTER__strategy':['mean','median'],'POLY__degree':[1,2,3]}\n",
    "gcv = GridSearchCV(pipe,param_grid=params,verbose = 3,cv = kfold,scoring = 'neg_mean_squared_error')\n",
    "gcv.fit(X,y)\n",
    "print(gcv.best_params_)\n",
    "print(gcv.best_score_)\n"
   ]
  },
  {
   "cell_type": "markdown",
   "id": "a8475178",
   "metadata": {},
   "source": [
    "KFold is a type of cross-validation technique used to evaluate the performance of machine learning models on a dataset. It involves splitting the data into k subsets or folds of approximately equal size. The model is trained on k-1 folds and tested on the remaining one. This process is repeated k times, with each fold serving as the test set exactly once.\n",
    "\n",
    "The main advantage of KFold cross-validation is that it provides a more reliable estimate of the model's performance compared to a single train-test split. It helps to reduce the risk of overfitting and gives a better sense of how well the model will generalize to unseen data.\n",
    "\n",
    "StratifiedKFold: StratifiedKFold is a variation of KFold that preserves the proportion of the target class in each fold. This is particularly useful when dealing with imbalanced datasets, where one class is much more frequent than others."
   ]
  },
  {
   "cell_type": "code",
   "execution_count": 26,
   "id": "f62945b4",
   "metadata": {},
   "outputs": [],
   "source": [
    "############### Bankruptyc ##########\n",
    "brupt = pd.read_csv(r\"C:\\Users\\Anonymous\\Desktop\\Advance Statistics\\Bankruptcy\\Bankruptcy.csv\")\n",
    "\n",
    "X = brupt.drop(['NO','YR','D'], axis=1)\n",
    "y = brupt['D']\n",
    "\n",
    "\n"
   ]
  },
  {
   "cell_type": "code",
   "execution_count": 39,
   "id": "7fe44153",
   "metadata": {},
   "outputs": [
    {
     "name": "stdout",
     "output_type": "stream",
     "text": [
      "{'ccp_alpha': 0.0, 'class_weight': None, 'criterion': 'gini', 'max_depth': None, 'max_features': None, 'max_leaf_nodes': None, 'min_impurity_decrease': 0.0, 'min_samples_leaf': 1, 'min_samples_split': 2, 'min_weight_fraction_leaf': 0.0, 'random_state': 23, 'splitter': 'best'}\n"
     ]
    }
   ],
   "source": [
    "kfold = StratifiedKFold(n_splits=5,shuffle=True,random_state=23)\n",
    "depth_values = [1,2,3,4,5,6,7,8,9,10]\n",
    "dtc = DecisionTreeClassifier(random_state=23)\n",
    "params = {'max_depth':depth_values}\n",
    "print(dtc.get_params())"
   ]
  },
  {
   "cell_type": "code",
   "execution_count": 40,
   "id": "9b5e5af5",
   "metadata": {},
   "outputs": [
    {
     "name": "stdout",
     "output_type": "stream",
     "text": [
      "{'max_depth': 1}\n",
      "-0.6309538338433784\n"
     ]
    }
   ],
   "source": [
    "gcv = GridSearchCV(dtc,param_grid=params,cv = kfold,scoring='neg_log_loss')\n",
    "gcv.fit(X,y)\n",
    "print(gcv.best_params_)\n",
    "print(gcv.best_score_)"
   ]
  },
  {
   "cell_type": "code",
   "execution_count": 31,
   "id": "deb2639c",
   "metadata": {},
   "outputs": [],
   "source": [
    "#############################################################"
   ]
  },
  {
   "cell_type": "code",
   "execution_count": null,
   "id": "ae7325c0",
   "metadata": {},
   "outputs": [],
   "source": []
  },
  {
   "cell_type": "code",
   "execution_count": null,
   "id": "5ca7f5a8",
   "metadata": {},
   "outputs": [],
   "source": []
  },
  {
   "cell_type": "code",
   "execution_count": null,
   "id": "4b3c4164",
   "metadata": {},
   "outputs": [],
   "source": []
  }
 ],
 "metadata": {
  "kernelspec": {
   "display_name": "Python 3 (ipykernel)",
   "language": "python",
   "name": "python3"
  },
  "language_info": {
   "codemirror_mode": {
    "name": "ipython",
    "version": 3
   },
   "file_extension": ".py",
   "mimetype": "text/x-python",
   "name": "python",
   "nbconvert_exporter": "python",
   "pygments_lexer": "ipython3",
   "version": "3.11.3"
  }
 },
 "nbformat": 4,
 "nbformat_minor": 5
}
