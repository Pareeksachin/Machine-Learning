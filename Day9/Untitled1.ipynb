{
 "cells": [
  {
   "cell_type": "code",
   "execution_count": 2,
   "id": "e12bf040",
   "metadata": {},
   "outputs": [
    {
     "name": "stdout",
     "output_type": "stream",
     "text": [
      "Index(['day_of_week', 'DJ_return', 'log_volume', 'log_volatility', 'train'], dtype='object')\n"
     ]
    }
   ],
   "source": [
    "from ISLP import load_data\n",
    "NYSE = load_data('NYSE')\n",
    "print(NYSE.columns)"
   ]
  },
  {
   "cell_type": "code",
   "execution_count": null,
   "id": "8528ac16",
   "metadata": {},
   "outputs": [],
   "source": [
    "idx = pd.to_datetime()"
   ]
  }
 ],
 "metadata": {
  "kernelspec": {
   "display_name": "Python 3 (ipykernel)",
   "language": "python",
   "name": "python3"
  },
  "language_info": {
   "codemirror_mode": {
    "name": "ipython",
    "version": 3
   },
   "file_extension": ".py",
   "mimetype": "text/x-python",
   "name": "python",
   "nbconvert_exporter": "python",
   "pygments_lexer": "ipython3",
   "version": "3.11.3"
  }
 },
 "nbformat": 4,
 "nbformat_minor": 5
}
