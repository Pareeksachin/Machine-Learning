{
 "cells": [
  {
   "cell_type": "code",
   "execution_count": 1,
   "id": "d90850e0",
   "metadata": {},
   "outputs": [],
   "source": [
    "import pandas as pd \n",
    "import numpy as np\n",
    "from sklearn.linear_model import LinearRegression\n",
    "import os\n"
   ]
  },
  {
   "cell_type": "code",
   "execution_count": 8,
   "id": "8e71abaf",
   "metadata": {},
   "outputs": [
    {
     "name": "stderr",
     "output_type": "stream",
     "text": [
      "C:\\Users\\Anonymous\\AppData\\Local\\Temp\\ipykernel_10532\\235909425.py:1: DtypeWarning: Columns (7) have mixed types. Specify dtype option on import or set low_memory=False.\n",
      "  train = pd.read_csv(r\"C:\\Users\\Anonymous\\Desktop\\Advance Statistics\\Rossman Store Sales\\train.csv\",index_col=2)\n"
     ]
    }
   ],
   "source": [
    "train = pd.read_csv(r\"C:\\Users\\Anonymous\\Desktop\\Advance Statistics\\Rossman Store Sales\\train.csv\",index_col=2)\n",
    "test = pd.read_csv(r\"C:\\Users\\Anonymous\\Desktop\\Advance Statistics\\Rossman Store Sales\\test.csv\",index_col=2)"
   ]
  },
  {
   "cell_type": "code",
   "execution_count": 9,
   "id": "c8b2072d",
   "metadata": {},
   "outputs": [],
   "source": [
    "idx = pd.to_datetime(train.index,format= \"%Y-%m-%d\").to_period(\"d\")\n",
    "train.index= idx"
   ]
  },
  {
   "cell_type": "code",
   "execution_count": 10,
   "id": "adb991d1",
   "metadata": {},
   "outputs": [
    {
     "data": {
      "text/plain": [
       "Date\n",
       "2015-07-31    5263\n",
       "2015-07-30    5020\n",
       "2015-07-29    4782\n",
       "2015-07-28    5011\n",
       "2015-07-27    6102\n",
       "Freq: D, Name: Sales, dtype: int64"
      ]
     },
     "execution_count": 10,
     "metadata": {},
     "output_type": "execute_result"
    }
   ],
   "source": [
    "store_1 = train[train['Store']==1]['Sales']\n",
    "tst1 = test[test['Store']==1]\n",
    "store_1.head()"
   ]
  },
  {
   "cell_type": "code",
   "execution_count": 12,
   "id": "63fd4e51",
   "metadata": {},
   "outputs": [
    {
     "data": {
      "text/plain": [
       "Date\n",
       "2015-07-31    5263\n",
       "2015-07-30    5020\n",
       "2015-07-29    4782\n",
       "2015-07-28    5011\n",
       "2015-07-27    6102\n",
       "              ... \n",
       "2013-01-05    4997\n",
       "2013-01-04    4486\n",
       "2013-01-03    4327\n",
       "2013-01-02    5530\n",
       "2013-01-01       0\n",
       "Freq: D, Name: Sales, Length: 942, dtype: int64"
      ]
     },
     "execution_count": 12,
     "metadata": {},
     "output_type": "execute_result"
    }
   ],
   "source": [
    "y_train, y_test = temporal_train_test_split(df,test_size=12)\n",
    "fh = np.arange(1, len(y_test) + 1)\n",
    "fh\n",
    "\n",
    "\n",
    "regressor = RandomForestRegressor(random_state=23)\n",
    "\n",
    "forecaster = make_reduction(regressor, window_length=12)\n",
    "forecaster.fit(y_train)\n",
    "y_pred = forecaster.predict(fh)\n",
    "rmse = MeanSquaredError(square_root=True)\n",
    "print(rmse(y_test, y_pred))\n",
    "\n"
   ]
  },
  {
   "cell_type": "code",
   "execution_count": null,
   "id": "3612e9aa",
   "metadata": {},
   "outputs": [],
   "source": []
  }
 ],
 "metadata": {
  "kernelspec": {
   "display_name": "Python 3 (ipykernel)",
   "language": "python",
   "name": "python3"
  },
  "language_info": {
   "codemirror_mode": {
    "name": "ipython",
    "version": 3
   },
   "file_extension": ".py",
   "mimetype": "text/x-python",
   "name": "python",
   "nbconvert_exporter": "python",
   "pygments_lexer": "ipython3",
   "version": "3.11.3"
  }
 },
 "nbformat": 4,
 "nbformat_minor": 5
}
