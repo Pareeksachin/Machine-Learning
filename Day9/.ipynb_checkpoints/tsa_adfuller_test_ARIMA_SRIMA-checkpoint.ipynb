{
 "cells": [
  {
   "cell_type": "code",
   "execution_count": 28,
   "id": "68c21a4e",
   "metadata": {},
   "outputs": [],
   "source": [
    "import pandas as pd\n",
    "from sktime.utils.plotting import plot_series\n",
    "from sktime.forecasting.model_selection import temporal_train_test_split\n",
    "from sktime.forecasting.ets import AutoETS\n",
    "from sktime.forecasting.base import ForecastingHorizon\n",
    "import matplotlib.pyplot as plt\n",
    "from sktime.performance_metrics.forecasting import mean_squared_error as mse\n",
    "from sktime.forecasting.exp_smoothing import ExponentialSmoothing\n",
    "import numpy as np\n",
    "from statsmodels.tsa.stattools import adfuller \n",
    "from statsmodels.graphics.tsaplots import plot_acf"
   ]
  },
  {
   "cell_type": "code",
   "execution_count": 2,
   "id": "97d1cb72",
   "metadata": {},
   "outputs": [
    {
     "data": {
      "text/html": [
       "<div>\n",
       "<style scoped>\n",
       "    .dataframe tbody tr th:only-of-type {\n",
       "        vertical-align: middle;\n",
       "    }\n",
       "\n",
       "    .dataframe tbody tr th {\n",
       "        vertical-align: top;\n",
       "    }\n",
       "\n",
       "    .dataframe thead th {\n",
       "        text-align: right;\n",
       "    }\n",
       "</style>\n",
       "<table border=\"1\" class=\"dataframe\">\n",
       "  <thead>\n",
       "    <tr style=\"text-align: right;\">\n",
       "      <th></th>\n",
       "      <th>Month</th>\n",
       "      <th>Milk</th>\n",
       "    </tr>\n",
       "  </thead>\n",
       "  <tbody>\n",
       "    <tr>\n",
       "      <th>0</th>\n",
       "      <td>1962-01</td>\n",
       "      <td>589</td>\n",
       "    </tr>\n",
       "    <tr>\n",
       "      <th>1</th>\n",
       "      <td>1962-02</td>\n",
       "      <td>561</td>\n",
       "    </tr>\n",
       "    <tr>\n",
       "      <th>2</th>\n",
       "      <td>1962-03</td>\n",
       "      <td>640</td>\n",
       "    </tr>\n",
       "    <tr>\n",
       "      <th>3</th>\n",
       "      <td>1962-04</td>\n",
       "      <td>656</td>\n",
       "    </tr>\n",
       "    <tr>\n",
       "      <th>4</th>\n",
       "      <td>1962-05</td>\n",
       "      <td>727</td>\n",
       "    </tr>\n",
       "  </tbody>\n",
       "</table>\n",
       "</div>"
      ],
      "text/plain": [
       "     Month  Milk\n",
       "0  1962-01   589\n",
       "1  1962-02   561\n",
       "2  1962-03   640\n",
       "3  1962-04   656\n",
       "4  1962-05   727"
      ]
     },
     "execution_count": 2,
     "metadata": {},
     "output_type": "execute_result"
    }
   ],
   "source": [
    "df = pd.read_csv(r\"C:\\Users\\Anonymous\\Desktop\\Advance Statistics\\Datasets\\monthly-milk-production-pounds-p.csv\")\n",
    "df.head()"
   ]
  },
  {
   "cell_type": "code",
   "execution_count": 9,
   "id": "fe999029",
   "metadata": {},
   "outputs": [
    {
     "name": "stdout",
     "output_type": "stream",
     "text": [
      "Test Statistic                  -1.221106\n",
      "p-value                          0.664451\n",
      "Lags Used                       14.000000\n",
      "Number of Observations Used    153.000000\n",
      "dtype: float64\n"
     ]
    }
   ],
   "source": [
    "def adfuller_test(ts):\n",
    "    adfuller_result = adfuller(ts,autolag=None)\n",
    "    adfuller_out = pd.Series(adfuller_result[0:4],\n",
    "    index = ['Test Statistic','p-value','Lags Used','Number of Observations Used'])\n",
    "    print(adfuller_out)\n",
    "    \n",
    "adfuller_test(df['Milk'])"
   ]
  },
  {
   "cell_type": "code",
   "execution_count": null,
   "id": "fb7ef395",
   "metadata": {},
   "outputs": [],
   "source": []
  },
  {
   "cell_type": "code",
   "execution_count": 10,
   "id": "2a0ed2ca",
   "metadata": {},
   "outputs": [
    {
     "name": "stdout",
     "output_type": "stream",
     "text": [
      "Test Statistic                  -3.054996\n",
      "p-value                          0.030068\n",
      "Lags Used                       14.000000\n",
      "Number of Observations Used    152.000000\n",
      "dtype: float64\n"
     ]
    }
   ],
   "source": [
    "diff_milk = df['Milk'].diff()\n",
    "adfuller_test(diff_milk.dropna())"
   ]
  },
  {
   "cell_type": "code",
   "execution_count": 14,
   "id": "1c7cea38",
   "metadata": {},
   "outputs": [
    {
     "data": {
      "image/png": "[encoded data removed]",
      "text/plain": [
       "<Figure size 640x480 with 1 Axes>"
      ]
     },
     "metadata": {},
     "output_type": "display_data"
    }
   ],
   "source": [
    "########## AutoCorrealtion \n",
    "plot_acf(df['Milk'],lags = 5)\n",
    "plt.show()\n",
    "\n"
   ]
  },
  {
   "cell_type": "code",
   "execution_count": 16,
   "id": "8379bdfc",
   "metadata": {},
   "outputs": [],
   "source": [
    "coal = pd.read_csv(r\"C:\\Users\\Anonymous\\Desktop\\Advance Statistics\\Datasets\\Coal Consumption.csv\")\n"
   ]
  },
  {
   "cell_type": "code",
   "execution_count": 17,
   "id": "683535f6",
   "metadata": {},
   "outputs": [
    {
     "name": "stdout",
     "output_type": "stream",
     "text": [
      "Test Statistic                  -1.713508\n",
      "p-value                          0.424166\n",
      "Lags Used                       13.000000\n",
      "Number of Observations Used    118.000000\n",
      "dtype: float64\n"
     ]
    }
   ],
   "source": [
    "def adfuller_test(ts):\n",
    "    adfuller_result = adfuller(ts,autolag=None)\n",
    "    adfuller_out = pd.Series(adfuller_result[0:4],\n",
    "    index = ['Test Statistic','p-value','Lags Used','Number of Observations Used'])\n",
    "    print(adfuller_out)\n",
    "    \n",
    "adfuller_test(coal['Amount'])"
   ]
  },
  {
   "cell_type": "code",
   "execution_count": 18,
   "id": "798d958a",
   "metadata": {},
   "outputs": [
    {
     "name": "stdout",
     "output_type": "stream",
     "text": [
      "Test Statistic                  -3.054996\n",
      "p-value                          0.030068\n",
      "Lags Used                       14.000000\n",
      "Number of Observations Used    152.000000\n",
      "dtype: float64\n"
     ]
    },
    {
     "data": {
      "image/png": "[encoded data removed]",
      "text/plain": [
       "<Figure size 640x480 with 1 Axes>"
      ]
     },
     "metadata": {},
     "output_type": "display_data"
    }
   ],
   "source": [
    "diff_coal = coal['Amount'].diff()\n",
    "adfuller_test(diff_milk.dropna())\n",
    "\n",
    "########## AutoCorrealtion \n",
    "plot_acf(coal['Amount'],lags = 5)\n",
    "plt.show()\n",
    "\n"
   ]
  },
  {
   "cell_type": "code",
   "execution_count": null,
   "id": "905cf49b",
   "metadata": {},
   "outputs": [],
   "source": []
  },
  {
   "cell_type": "code",
   "execution_count": 29,
   "id": "d7ab6816",
   "metadata": {},
   "outputs": [
    {
     "name": "stdout",
     "output_type": "stream",
     "text": [
      "Coefficients: const      112.559667\n",
      "Milk.L1      0.947108\n",
      "Milk.L2      0.234994\n",
      "Milk.L3     -0.331856\n",
      "dtype: float64\n",
      "MSE = 11853.814246673513\n"
     ]
    }
   ],
   "source": [
    "####### Auto Reg ##############\n",
    "from statsmodels.tsa.ar_model import AutoReg\n",
    "y = df['Milk']\n",
    "y_train = df['Milk'][:-12]\n",
    "y_test = df['Milk'][-12:]\n",
    "model = AutoReg(y_train, lags=3)\n",
    "model_fit = model.fit()\n",
    "\n",
    "print('Coefficients: %s' % model_fit.params)\n",
    "predictions = model_fit.predict(start=len(y_train), \n",
    "                                end=len(y_train)+len(y_test)-1, \n",
    "                                dynamic=False)\n",
    "\n",
    "print(\"MSE =\",mse(y_test, predictions))"
   ]
  },
  {
   "cell_type": "code",
   "execution_count": 30,
   "id": "7cb40b0a",
   "metadata": {},
   "outputs": [
    {
     "name": "stderr",
     "output_type": "stream",
     "text": [
      "C:\\Users\\Anonymous\\AppData\\Local\\Programs\\Python\\Python311\\Lib\\site-packages\\statsmodels\\tsa\\statespace\\sarimax.py:978: UserWarning: Non-invertible starting MA parameters found. Using zeros as starting parameters.\n",
      "  warn('Non-invertible starting MA parameters found.'\n"
     ]
    },
    {
     "name": "stdout",
     "output_type": "stream",
     "text": [
      "Coefficients: const      746.375182\n",
      "ma.L1        0.910828\n",
      "ma.L2        0.654716\n",
      "sigma2    2736.798664\n",
      "dtype: float64\n",
      "MSE = 15838.872885212697\n"
     ]
    }
   ],
   "source": [
    "################# Moving Average #########################\n",
    "from statsmodels.tsa.arima.model import ARIMA\n",
    "# train MA\n",
    "model = ARIMA(y_train,order=(0,0,2))\n",
    "model_fit = model.fit()\n",
    "\n",
    "print('Coefficients: %s' % model_fit.params)\n",
    "# make predictions\n",
    "predictions = model_fit.predict(start=len(y_train), \n",
    "                                end=len(y_train)+len(y_test)-1, \n",
    "                                dynamic=False)\n",
    "print(\"MSE =\",mse(y_test, predictions)) "
   ]
  },
  {
   "cell_type": "code",
   "execution_count": 31,
   "id": "bdb02b8d",
   "metadata": {},
   "outputs": [
    {
     "name": "stdout",
     "output_type": "stream",
     "text": [
      "Coefficients: const      746.385794\n",
      "ar.L1        0.789823\n",
      "ma.L1        0.194306\n",
      "ma.L2        0.515378\n",
      "sigma2    1568.263728\n",
      "dtype: float64\n",
      "MSE = 11157.758792306204\n"
     ]
    }
   ],
   "source": [
    "############### ARMA ######################################\n",
    "# 1st order AR, 2nd order MA\n",
    "model = ARIMA(y_train,order=(1,0,2))\n",
    "model_fit = model.fit()\n",
    "\n",
    "print('Coefficients: %s' % model_fit.params)\n",
    "# make predictions\n",
    "predictions = model_fit.predict(start=len(y_train), \n",
    "                                end=len(y_train)+len(y_test)-1, \n",
    "                                dynamic=False)\n",
    "print(\"MSE =\",mse(y_test, predictions)) "
   ]
  },
  {
   "cell_type": "code",
   "execution_count": 32,
   "id": "14c85f3e",
   "metadata": {},
   "outputs": [
    {
     "name": "stdout",
     "output_type": "stream",
     "text": [
      "Coefficients: ar.L1       -0.216067\n",
      "ma.L1        0.282827\n",
      "ma.L2        0.491660\n",
      "sigma2    1712.400410\n",
      "dtype: float64\n",
      "MSE = 5001.569186907822\n"
     ]
    }
   ],
   "source": [
    "############### ARIMA ######################################\n",
    "# 1st order AR, 1st order Diff, 2nd order MA\n",
    "model = ARIMA(y_train,order=(1,1,2))\n",
    "model_fit = model.fit()\n",
    "\n",
    "print('Coefficients: %s' % model_fit.params)\n",
    "# make predictions\n",
    "predictions = model_fit.predict(start=len(y_train), \n",
    "                                end=len(y_train)+len(y_test)-1, \n",
    "                                dynamic=False)\n",
    "print(\"MSE =\",mse(y_test, predictions)) \n"
   ]
  },
  {
   "cell_type": "code",
   "execution_count": 33,
   "id": "0113bf23",
   "metadata": {},
   "outputs": [
    {
     "name": "stdout",
     "output_type": "stream",
     "text": [
      "Performing stepwise search to minimize aic\n",
      " ARIMA(2,0,2)(1,1,1)[12] intercept   : AIC=1000.136, Time=2.38 sec\n",
      " ARIMA(0,0,0)(0,1,0)[12] intercept   : AIC=1218.095, Time=0.03 sec\n",
      " ARIMA(1,0,0)(1,1,0)[12] intercept   : AIC=1015.855, Time=0.53 sec\n",
      " ARIMA(0,0,1)(0,1,1)[12] intercept   : AIC=1104.312, Time=0.54 sec\n",
      " ARIMA(0,0,0)(0,1,0)[12]             : AIC=1349.320, Time=0.05 sec\n",
      " ARIMA(2,0,2)(0,1,1)[12] intercept   : AIC=998.169, Time=1.76 sec\n",
      " ARIMA(2,0,2)(0,1,0)[12] intercept   : AIC=1038.230, Time=0.55 sec\n",
      " ARIMA(2,0,2)(0,1,2)[12] intercept   : AIC=1000.125, Time=4.74 sec\n",
      " ARIMA(2,0,2)(1,1,0)[12] intercept   : AIC=1012.395, Time=1.43 sec\n",
      " ARIMA(2,0,2)(1,1,2)[12] intercept   : AIC=inf, Time=7.56 sec\n",
      " ARIMA(1,0,2)(0,1,1)[12] intercept   : AIC=996.457, Time=1.00 sec\n",
      " ARIMA(1,0,2)(0,1,0)[12] intercept   : AIC=1036.989, Time=0.30 sec\n",
      " ARIMA(1,0,2)(1,1,1)[12] intercept   : AIC=998.423, Time=1.32 sec\n",
      " ARIMA(1,0,2)(0,1,2)[12] intercept   : AIC=998.411, Time=2.99 sec\n",
      " ARIMA(1,0,2)(1,1,0)[12] intercept   : AIC=1010.988, Time=0.88 sec\n",
      " ARIMA(1,0,2)(1,1,2)[12] intercept   : AIC=inf, Time=6.69 sec\n",
      " ARIMA(0,0,2)(0,1,1)[12] intercept   : AIC=1070.556, Time=1.01 sec\n",
      " ARIMA(1,0,1)(0,1,1)[12] intercept   : AIC=995.011, Time=0.93 sec\n",
      " ARIMA(1,0,1)(0,1,0)[12] intercept   : AIC=1035.965, Time=0.18 sec\n",
      " ARIMA(1,0,1)(1,1,1)[12] intercept   : AIC=996.988, Time=0.98 sec\n",
      " ARIMA(1,0,1)(0,1,2)[12] intercept   : AIC=996.980, Time=2.27 sec\n",
      " ARIMA(1,0,1)(1,1,0)[12] intercept   : AIC=1010.514, Time=0.80 sec\n",
      " ARIMA(1,0,1)(1,1,2)[12] intercept   : AIC=inf, Time=5.20 sec\n",
      " ARIMA(1,0,0)(0,1,1)[12] intercept   : AIC=999.197, Time=0.48 sec\n",
      " ARIMA(2,0,1)(0,1,1)[12] intercept   : AIC=996.773, Time=1.18 sec\n",
      " ARIMA(0,0,0)(0,1,1)[12] intercept   : AIC=1203.992, Time=0.35 sec\n",
      " ARIMA(2,0,0)(0,1,1)[12] intercept   : AIC=994.889, Time=0.78 sec\n",
      " ARIMA(2,0,0)(0,1,0)[12] intercept   : AIC=1035.695, Time=0.18 sec\n",
      " ARIMA(2,0,0)(1,1,1)[12] intercept   : AIC=996.861, Time=1.05 sec\n",
      " ARIMA(2,0,0)(0,1,2)[12] intercept   : AIC=996.851, Time=2.56 sec\n",
      " ARIMA(2,0,0)(1,1,0)[12] intercept   : AIC=1009.969, Time=0.77 sec\n",
      " ARIMA(2,0,0)(1,1,2)[12] intercept   : AIC=inf, Time=5.04 sec\n",
      " ARIMA(3,0,0)(0,1,1)[12] intercept   : AIC=996.636, Time=0.97 sec\n",
      " ARIMA(3,0,1)(0,1,1)[12] intercept   : AIC=994.862, Time=2.02 sec\n",
      " ARIMA(3,0,1)(0,1,0)[12] intercept   : AIC=inf, Time=0.97 sec\n",
      " ARIMA(3,0,1)(1,1,1)[12] intercept   : AIC=996.844, Time=2.94 sec\n",
      " ARIMA(3,0,1)(0,1,2)[12] intercept   : AIC=996.838, Time=4.93 sec\n",
      " ARIMA(3,0,1)(1,1,0)[12] intercept   : AIC=1008.914, Time=2.66 sec\n",
      " ARIMA(3,0,1)(1,1,2)[12] intercept   : AIC=inf, Time=6.52 sec\n",
      " ARIMA(4,0,1)(0,1,1)[12] intercept   : AIC=996.817, Time=2.89 sec\n",
      " ARIMA(3,0,2)(0,1,1)[12] intercept   : AIC=996.860, Time=3.79 sec\n",
      " ARIMA(4,0,0)(0,1,1)[12] intercept   : AIC=996.338, Time=0.99 sec\n",
      " ARIMA(4,0,2)(0,1,1)[12] intercept   : AIC=998.729, Time=3.40 sec\n",
      " ARIMA(3,0,1)(0,1,1)[12]             : AIC=998.116, Time=1.32 sec\n",
      "\n",
      "Best model:  ARIMA(3,0,1)(0,1,1)[12] intercept\n",
      "Total fit time: 90.047 seconds\n",
      "MSE = 194.3540245317414\n"
     ]
    },
    {
     "data": {
      "image/png": "[encoded data removed]",
      "text/plain": [
       "<Figure size 640x480 with 1 Axes>"
      ]
     },
     "metadata": {},
     "output_type": "display_data"
    }
   ],
   "source": [
    "############# SARIMA ################\n",
    "model = auto_arima(y_train, trace=True,seasonal=True,m=12,\n",
    "                   error_action='ignore', \n",
    "                   suppress_warnings=True)\n",
    "forecast = model.predict(n_periods=len(y_test))\n",
    "forecast = pd.DataFrame(forecast,index = y_test.index,\n",
    "                        columns=['Prediction'])\n",
    "print(\"MSE =\",mse(y_test, forecast)) \n",
    "\n",
    "#plot the predictions for validation set\n",
    "plt.plot(y_train, label='Train',color=\"blue\")\n",
    "plt.plot(y_test, label='Valid',color=\"pink\")\n",
    "plt.plot(forecast, label='Prediction',color=\"purple\")\n",
    "plt.legend(loc='best')\n",
    "plt.show()"
   ]
  },
  {
   "cell_type": "code",
   "execution_count": 25,
   "id": "399c476c",
   "metadata": {},
   "outputs": [],
   "source": []
  },
  {
   "cell_type": "code",
   "execution_count": null,
   "id": "2a3b353e",
   "metadata": {},
   "outputs": [],
   "source": []
  },
  {
   "cell_type": "code",
   "execution_count": null,
   "id": "42f77102",
   "metadata": {},
   "outputs": [],
   "source": []
  }
 ],
 "metadata": {
  "kernelspec": {
   "display_name": "Python 3 (ipykernel)",
   "language": "python",
   "name": "python3"
  },
  "language_info": {
   "codemirror_mode": {
    "name": "ipython",
    "version": 3
   },
   "file_extension": ".py",
   "mimetype": "text/x-python",
   "name": "python",
   "nbconvert_exporter": "python",
   "pygments_lexer": "ipython3",
   "version": "3.11.3"
  }
 },
 "nbformat": 4,
 "nbformat_minor": 5
}
