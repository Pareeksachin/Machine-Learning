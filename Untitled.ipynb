{
 "cells": [
  {
   "cell_type": "code",
   "execution_count": 45,
   "id": "bee98183",
   "metadata": {},
   "outputs": [
    {
     "name": "stdout",
     "output_type": "stream",
     "text": [
      "CPU times: total: 0 ns\n",
      "Wall time: 0 ns\n"
     ]
    }
   ],
   "source": [
    "%%time\n",
    "import pandas as pd\n",
    "from pyarrow import parquet,feather"
   ]
  },
  {
   "cell_type": "code",
   "execution_count": null,
   "id": "a314908b",
   "metadata": {},
   "outputs": [],
   "source": [
    "!pip install fastparquet"
   ]
  },
  {
   "cell_type": "code",
   "execution_count": 56,
   "id": "32f40d5c",
   "metadata": {},
   "outputs": [
    {
     "name": "stdout",
     "output_type": "stream",
     "text": [
      "CPU times: total: 109 ms\n",
      "Wall time: 123 ms\n"
     ]
    }
   ],
   "source": [
    "%%time \n",
    "diamonds = pd.read_csv(r\"C:\\Users\\Anonymous\\Desktop\\Machine Learning\\Datasets\\diamonds.csv\")"
   ]
  },
  {
   "cell_type": "code",
   "execution_count": 37,
   "id": "b804da1a",
   "metadata": {},
   "outputs": [],
   "source": [
    "\n",
    "diamonds.to_parquet('diamonds_parquet.parquet')"
   ]
  },
  {
   "cell_type": "code",
   "execution_count": 39,
   "id": "8a3d0227",
   "metadata": {},
   "outputs": [],
   "source": [
    "diamonds.to_feather('diamonds_feather.feather')"
   ]
  },
  {
   "cell_type": "code",
   "execution_count": 57,
   "id": "1586fe0a",
   "metadata": {},
   "outputs": [
    {
     "name": "stdout",
     "output_type": "stream",
     "text": [
      "CPU times: total: 46.9 ms\n",
      "Wall time: 15.8 ms\n"
     ]
    }
   ],
   "source": [
    "%%time\n",
    "diamonds = parquet.read_pandas('diamonds_parquet.parquet')"
   ]
  },
  {
   "cell_type": "code",
   "execution_count": 58,
   "id": "963e1151",
   "metadata": {},
   "outputs": [
    {
     "name": "stdout",
     "output_type": "stream",
     "text": [
      "CPU times: total: 15.6 ms\n",
      "Wall time: 28.5 ms\n"
     ]
    }
   ],
   "source": [
    "%%time\n",
    "diamonds = feather.read_feather('diamonds_feather.feather')"
   ]
  },
  {
   "cell_type": "code",
   "execution_count": null,
   "id": "22fee9ac",
   "metadata": {},
   "outputs": [],
   "source": []
  },
  {
   "cell_type": "code",
   "execution_count": null,
   "id": "c63b8a75",
   "metadata": {},
   "outputs": [],
   "source": []
  },
  {
   "cell_type": "code",
   "execution_count": null,
   "id": "be7ea8fc",
   "metadata": {},
   "outputs": [],
   "source": []
  }
 ],
 "metadata": {
  "kernelspec": {
   "display_name": "Python 3 (ipykernel)",
   "language": "python",
   "name": "python3"
  },
  "language_info": {
   "codemirror_mode": {
    "name": "ipython",
    "version": 3
   },
   "file_extension": ".py",
   "mimetype": "text/x-python",
   "name": "python",
   "nbconvert_exporter": "python",
   "pygments_lexer": "ipython3",
   "version": "3.11.3"
  }
 },
 "nbformat": 4,
 "nbformat_minor": 5
}
