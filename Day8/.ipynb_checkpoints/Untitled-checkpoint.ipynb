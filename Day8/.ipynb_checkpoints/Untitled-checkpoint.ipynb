{
 "cells": [
  {
   "cell_type": "code",
   "execution_count": 11,
   "id": "d2a2f3fa",
   "metadata": {},
   "outputs": [],
   "source": [
    "d"
   ]
  },
  {
   "cell_type": "code",
   "execution_count": 3,
   "id": "2fb1e395",
   "metadata": {},
   "outputs": [],
   "source": [
    "concrete = pd.read_csv(r\"C:\\Users\\Anonymous\\Desktop\\Machine Learning\\Cases\\Concrete Strength\\Concrete_Data.csv\")\n",
    "# =============================================================================\n",
    "# \n",
    "# np.random.seed(23)\n",
    "# ind_trn = np.random.randint(low=0, high=1029, size=1030)\n",
    "# train = concrete.iloc[ind_trn,:]\n",
    "# \n",
    "# # Bootstrap Sample\n",
    "# d = np.arange(1,11)\n",
    "# print(np.random.choice(d, 10, replace=True))\n",
    "# \n",
    "# \n",
    "# np.random.seed(23)\n",
    "# ind_trn = np.random.randint(low=0, high=1029, size=1030)\n",
    "# repl_ind_trn = np.random.choice(ind_trn, len(ind_trn),\n",
    "#                                 replace=True)\n",
    "# train = concrete.iloc[repl_ind_trn,:]\n",
    "# \n",
    "# =============================================================================\n"
   ]
  },
  {
   "cell_type": "code",
   "execution_count": 4,
   "id": "78169716",
   "metadata": {},
   "outputs": [
    {
     "name": "stdout",
     "output_type": "stream",
     "text": [
      "0.6312960386440598\n",
      "Out of Bag Score = 0.5865569666044448\n",
      "0.6325388578705353\n"
     ]
    },
    {
     "name": "stderr",
     "output_type": "stream",
     "text": [
      "C:\\Users\\Anonymous\\AppData\\Local\\Programs\\Python\\Python311\\Lib\\site-packages\\sklearn\\ensemble\\_bagging.py:1253: UserWarning: Some inputs do not have OOB scores. This probably means too few estimators were used to compute any reliable oob estimates.\n",
      "  warn(\n"
     ]
    }
   ],
   "source": [
    "\n",
    "X = concrete.drop('Strength', axis=1)\n",
    "y = concrete['Strength']\n",
    "\n",
    "lr = LinearRegression()\n",
    "\n",
    "X_train, X_test, y_train, y_test = train_test_split(X,y,\n",
    "                                                    test_size=0.3,\n",
    "                                                    random_state=23)\n",
    "lr.fit(X_train, y_train)\n",
    "y_pred = lr.predict(X_test)\n",
    "print(r2_score(y_test, y_pred))\n",
    "\n",
    "bagging = BaggingRegressor(estimator=lr,oob_score=True,\n",
    "                           n_estimators=15, random_state=23)\n",
    "bagging.fit(X_train, y_train)\n",
    "print(\"Out of Bag Score =\", bagging.oob_score_)\n",
    "\n",
    "y_pred = bagging.predict(X_test)\n",
    "print(r2_score(y_test, y_pred))"
   ]
  },
  {
   "cell_type": "code",
   "execution_count": 7,
   "id": "a3154bf0",
   "metadata": {},
   "outputs": [
    {
     "name": "stdout",
     "output_type": "stream",
     "text": [
      "0.6003622104847715\n",
      "0.6005512739256812\n"
     ]
    }
   ],
   "source": [
    "###############################################################\n",
    "ridge = Ridge()\n",
    "kfold = KFold(n_splits=5, shuffle=True, random_state=23)\n",
    "results = cross_val_score(ridge, X, y, scoring='r2',\n",
    "                          cv=kfold)\n",
    "print(results.mean())\n",
    "\n",
    "bagging = BaggingRegressor(estimator=ridge,\n",
    "                           n_estimators=15, random_state=23)\n",
    "results = cross_val_score(bagging, X, y, scoring='r2',\n",
    "                          cv=kfold)\n",
    "print(results.mean())\n",
    "\n"
   ]
  },
  {
   "cell_type": "code",
   "execution_count": 10,
   "id": "ee7a9c49",
   "metadata": {},
   "outputs": [
    {
     "name": "stdout",
     "output_type": "stream",
     "text": [
      "{'base_estimator': 'deprecated', 'bootstrap': True, 'bootstrap_features': False, 'estimator__alpha': 1.0, 'estimator__copy_X': True, 'estimator__fit_intercept': True, 'estimator__max_iter': None, 'estimator__positive': False, 'estimator__random_state': None, 'estimator__solver': 'auto', 'estimator__tol': 0.0001, 'estimator': Ridge(), 'max_features': 1.0, 'max_samples': 1.0, 'n_estimators': 15, 'n_jobs': None, 'oob_score': False, 'random_state': 23, 'verbose': 0, 'warm_start': False}\n",
      "{'estimator__alpha': 5.0}\n",
      "0.6005523007850422\n"
     ]
    }
   ],
   "source": [
    "##### Grid Search CV\n",
    "print(bagging.get_params())\n",
    "params = {'estimator__alpha': np.linspace(0.001,5, 10)}\n",
    "gcv = GridSearchCV(bagging, param_grid=params,\n",
    "                   cv=kfold, scoring='r2')\n",
    "gcv.fit(X, y)\n",
    "print(gcv.best_params_)\n",
    "print(gcv.best_score_)\n"
   ]
  },
  {
   "cell_type": "code",
   "execution_count": 12,
   "id": "5e0a767a",
   "metadata": {},
   "outputs": [
    {
     "name": "stdout",
     "output_type": "stream",
     "text": [
      "{'base_estimator': 'deprecated', 'bootstrap': True, 'bootstrap_features': False, 'estimator__ccp_alpha': 0.0, 'estimator__criterion': 'squared_error', 'estimator__max_depth': None, 'estimator__max_features': None, 'estimator__max_leaf_nodes': None, 'estimator__min_impurity_decrease': 0.0, 'estimator__min_samples_leaf': 1, 'estimator__min_samples_split': 2, 'estimator__min_weight_fraction_leaf': 0.0, 'estimator__random_state': 23, 'estimator__splitter': 'best', 'estimator': DecisionTreeRegressor(random_state=23), 'max_features': 1.0, 'max_samples': 1.0, 'n_estimators': 10, 'n_jobs': 1, 'oob_score': False, 'random_state': 23, 'verbose': 0, 'warm_start': False}\n"
     ]
    }
   ],
   "source": [
    "### tree\n",
    "\n",
    "dtr = DecisionTreeRegressor(random_state=23)\n",
    "bagging = BaggingRegressor(estimator=dtr,random_state=23,n_jobs=1)\n",
    "print(bagging.get_params())\n"
   ]
  },
  {
   "cell_type": "code",
   "execution_count": 18,
   "id": "b10d3efd",
   "metadata": {},
   "outputs": [
    {
     "name": "stdout",
     "output_type": "stream",
     "text": [
      "Fitting 5 folds for each of 588 candidates, totalling 2940 fits\n",
      "{'estimator__max_depth': None, 'estimator__min_samples_leaf': 1, 'estimator__min_samples_split': 2, 'n_estimators': 50}\n",
      "0.9092008982446877\n"
     ]
    }
   ],
   "source": [
    "params = {'estimator__max_depth':[None,2,5,6],'estimator__min_samples_split':[2,5,10,20,30,40,50],'estimator__min_samples_leaf':[1,5,10,20,30,40,50],\n",
    "         'n_estimators' :[10,25,50]}\n",
    "gcv = GridSearchCV(bagging,param_grid=params,n_jobs=-1,cv = kfold,scoring = 'r2',verbose=2)\n",
    "gcv.fit(X,y)\n",
    "print(gcv.best_params_)\n",
    "print(gcv.best_score_)"
   ]
  },
  {
   "cell_type": "code",
   "execution_count": 20,
   "id": "1ef80ef8",
   "metadata": {},
   "outputs": [
    {
     "name": "stdout",
     "output_type": "stream",
     "text": [
      "Fitting 5 folds for each of 9 candidates, totalling 45 fits\n",
      "{'estimator': DecisionTreeRegressor(random_state=23), 'n_estimators': 50}\n",
      "0.9092008982446877\n"
     ]
    }
   ],
   "source": [
    "### Multiple Models\n",
    "params = {'estimator':[dtr,lr,ridge],\n",
    "         'n_estimators' :[10,25,50]}\n",
    "gcv = GridSearchCV(bagging,param_grid=params,n_jobs=-1,cv = kfold,scoring = 'r2',verbose=2)\n",
    "gcv.fit(X,y)\n",
    "print(gcv.best_params_)\n",
    "print(gcv.best_score_)"
   ]
  },
  {
   "cell_type": "code",
   "execution_count": null,
   "id": "04907ff8",
   "metadata": {},
   "outputs": [],
   "source": []
  }
 ],
 "metadata": {
  "kernelspec": {
   "display_name": "Python 3 (ipykernel)",
   "language": "python",
   "name": "python3"
  },
  "language_info": {
   "codemirror_mode": {
    "name": "ipython",
    "version": 3
   },
   "file_extension": ".py",
   "mimetype": "text/x-python",
   "name": "python",
   "nbconvert_exporter": "python",
   "pygments_lexer": "ipython3",
   "version": "3.11.3"
  }
 },
 "nbformat": 4,
 "nbformat_minor": 5
}
