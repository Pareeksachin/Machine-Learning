{
 "cells": [
  {
   "cell_type": "code",
   "execution_count": 2,
   "id": "eda64951",
   "metadata": {},
   "outputs": [],
   "source": [
    "from gensim.models import Word2Vec\n",
    "import numpy as np"
   ]
  },
  {
   "cell_type": "code",
   "execution_count": 3,
   "id": "a9089ea4",
   "metadata": {},
   "outputs": [],
   "source": [
    "\n",
    "# define training data\n",
    "sentences = [['drink','not','good'],\n",
    "['felt','superb'],['just','good','ambience'],['bad','taste'],['parking','problem'],\n",
    "              ['fantastic','food'],['bad', 'food'], ['nice','place']]\n",
    "\n",
    "y = np.array([0,1,1,0,0,1,0,1])\n"
   ]
  },
  {
   "cell_type": "code",
   "execution_count": 4,
   "id": "cce50ea5",
   "metadata": {},
   "outputs": [
    {
     "name": "stdout",
     "output_type": "stream",
     "text": [
      "Word2Vec<vocab=15, vector_size=100, alpha=0.025>\n"
     ]
    }
   ],
   "source": [
    "\n",
    "\"\"\"Train the model\"\"\"\n",
    "\n",
    "model = Word2Vec(sentences, sg=0, min_count=1,vector_size=100)\n",
    "\n",
    "print(model)\n"
   ]
  },
  {
   "cell_type": "code",
   "execution_count": 5,
   "id": "7c543c6c",
   "metadata": {},
   "outputs": [
    {
     "data": {
      "text/plain": [
       "15"
      ]
     },
     "execution_count": 5,
     "metadata": {},
     "output_type": "execute_result"
    }
   ],
   "source": [
    "\n",
    "\"\"\"Vocabulary:\"\"\"\n",
    "\n",
    "len(model.wv)\n",
    "\n"
   ]
  },
  {
   "cell_type": "code",
   "execution_count": 11,
   "id": "d76dfce9",
   "metadata": {},
   "outputs": [
    {
     "name": "stdout",
     "output_type": "stream",
     "text": [
      "[-1.9442164e-03 -5.2675214e-03  9.4471136e-03 -9.2987325e-03\n",
      "  4.5039477e-03  5.4041781e-03 -1.4092624e-03  9.0070926e-03\n",
      "  9.8853596e-03 -5.4750429e-03 -6.0210000e-03 -6.7469729e-03\n",
      " -7.8948820e-03 -3.0479168e-03 -5.5940272e-03 -8.3446801e-03\n",
      "  7.8290224e-04  2.9946566e-03  6.4147436e-03 -2.6289499e-03\n",
      " -4.4534765e-03  1.2495709e-03  3.9146186e-04  8.1169987e-03\n",
      "  1.8280029e-04  7.2315861e-03 -8.2645155e-03  8.4335366e-03\n",
      " -1.8889094e-03  8.7011540e-03 -7.6168370e-03  1.7963862e-03\n",
      "  1.0564864e-03  4.6005251e-05 -5.1032533e-03 -9.2476979e-03\n",
      " -7.2642174e-03 -7.9511739e-03  1.9137275e-03  4.7846674e-04\n",
      " -1.8131376e-03  7.1201660e-03 -2.4756920e-03 -1.3473093e-03\n",
      " -8.9005642e-03 -9.9254129e-03  8.9493981e-03 -5.7539381e-03\n",
      " -6.3729975e-03  5.1994072e-03  6.6699935e-03 -6.8316413e-03\n",
      "  9.5975993e-04 -6.0084737e-03  1.6473436e-03 -4.2892788e-03\n",
      " -3.4407973e-03  2.1856665e-03  8.6615775e-03  6.7281104e-03\n",
      " -9.6770572e-03 -5.6221043e-03  7.8803329e-03  1.9893574e-03\n",
      " -4.2560520e-03  5.9881213e-04  9.5209610e-03 -1.1027169e-03\n",
      " -9.4246380e-03  1.6084099e-03  6.2323548e-03  6.2823701e-03\n",
      "  4.0916502e-03 -5.6502391e-03 -3.7069322e-04 -5.5317880e-05\n",
      "  4.5717955e-03 -8.0415895e-03 -8.0183093e-03  2.6475071e-04\n",
      " -8.6082993e-03  5.8201565e-03 -4.1781188e-04  9.9711772e-03\n",
      " -5.3439774e-03 -4.8613906e-04  7.7567734e-03 -4.0679323e-03\n",
      " -5.0159004e-03  1.5900708e-03  2.6506938e-03 -2.5649595e-03\n",
      "  6.4475285e-03 -7.6599526e-03  3.3935606e-03  4.8997044e-04\n",
      "  8.7321829e-03  5.9827138e-03  6.8153618e-03  7.8225443e-03]\n",
      "100\n",
      "[-8.7274825e-03  2.1301615e-03 -8.7354420e-04 -9.3190884e-03\n",
      " -9.4281426e-03 -1.4107180e-03  4.4324086e-03  3.7040710e-03\n",
      " -6.4986930e-03 -6.8730675e-03 -4.9994122e-03 -2.2868442e-03\n",
      " -7.2502876e-03 -9.6033178e-03 -2.7436293e-03 -8.3628409e-03\n",
      " -6.0388758e-03 -5.6709289e-03 -2.3441375e-03 -1.7069972e-03\n",
      " -8.9569986e-03 -7.3519943e-04  8.1525063e-03  7.6904297e-03\n",
      " -7.2061159e-03 -3.6668312e-03  3.1185520e-03 -9.5707225e-03\n",
      "  1.4764392e-03  6.5244664e-03  5.7464195e-03 -8.7630618e-03\n",
      " -4.5171441e-03 -8.1401607e-03  4.5956374e-05  9.2636338e-03\n",
      "  5.9733056e-03  5.0673080e-03  5.0610625e-03 -3.2429171e-03\n",
      "  9.5521836e-03 -7.3564244e-03 -7.2703874e-03 -2.2653891e-03\n",
      " -7.7856064e-04 -3.2161034e-03 -5.9258583e-04  7.4888230e-03\n",
      " -6.9751858e-04 -1.6249407e-03  2.7443992e-03 -8.3591007e-03\n",
      "  7.8558037e-03  8.5361041e-03 -9.5840869e-03  2.4462664e-03\n",
      "  9.9049713e-03 -7.6658037e-03 -6.9669187e-03 -7.7365171e-03\n",
      "  8.3959233e-03 -6.8133592e-04  9.1444086e-03 -8.1582209e-03\n",
      "  3.7430846e-03  2.6350426e-03  7.4271322e-04  2.3276759e-03\n",
      " -7.4690939e-03 -9.3583735e-03  2.3545765e-03  6.1484552e-03\n",
      "  7.9856887e-03  5.7358947e-03 -7.7733636e-04  8.3061643e-03\n",
      " -9.3363142e-03  3.4061326e-03  2.6675343e-04  3.8572443e-03\n",
      "  7.3857834e-03 -6.7251669e-03  5.5844807e-03 -9.5222248e-03\n",
      " -8.0445886e-04 -8.6887367e-03 -5.0986730e-03  9.2892265e-03\n",
      " -1.8582619e-03  2.9144264e-03  9.0712793e-03  8.9381328e-03\n",
      " -8.2084350e-03 -3.0123137e-03  9.8866057e-03  5.1044310e-03\n",
      " -1.5880871e-03 -8.6920215e-03  2.9615164e-03 -6.6758976e-03]\n"
     ]
    }
   ],
   "source": [
    "\"\"\"Accessing vectors\"\"\"\n",
    "\n",
    "print(model.wv.get_vector(\"felt\") )\n",
    "\n",
    "print(len(model.wv.get_vector(\"drink\")))\n",
    "\n",
    "print(model.wv.get_vector('fantastic'))\n",
    "\n"
   ]
  },
  {
   "cell_type": "code",
   "execution_count": 16,
   "id": "8d48d4ae",
   "metadata": {},
   "outputs": [
    {
     "name": "stdout",
     "output_type": "stream",
     "text": [
      "(3, 100)\n",
      "[-5.6963653e-04  7.2533949e-03 -4.4826330e-03 -4.1153510e-03\n",
      "  3.7290629e-03 -4.3883952e-04 -1.9849048e-03 -2.4976782e-04\n",
      " -1.0601323e-03 -1.4544576e-03 -1.7730177e-04 -2.1016975e-03\n",
      " -2.3709917e-03 -4.5119710e-03  3.7935816e-03  2.7620541e-03\n",
      "  7.3336004e-03  3.6107369e-03 -1.4090828e-03 -4.9140123e-03\n",
      "  2.2784704e-03  1.2130850e-03  1.3070261e-03 -1.9236769e-03\n",
      "  2.8912902e-03  2.8606949e-03 -6.3876309e-06 -1.3687735e-03\n",
      "  8.7511848e-04  2.1161868e-03  1.2316598e-03 -1.3883421e-03\n",
      "  1.2701750e-04 -4.7466843e-03 -2.5093106e-03 -4.7299075e-03\n",
      " -7.6300690e-05  6.6217980e-03  8.2601391e-04  1.2421875e-03\n",
      " -4.0370662e-05 -1.0912288e-03  3.5090186e-03  4.9871453e-03\n",
      "  2.1323566e-03  1.4801939e-03 -2.2903115e-03 -1.7406679e-03\n",
      "  8.6740096e-04  1.2226426e-04  1.5401546e-03  1.1098484e-03\n",
      " -3.1943154e-03 -4.7262716e-03 -4.5793499e-03 -3.4565933e-03\n",
      "  4.2254063e-03 -2.2309709e-04 -3.0233238e-03  2.7114346e-03\n",
      "  5.5954215e-04 -1.1067243e-03  5.3234040e-03  5.5785961e-03\n",
      "  1.3941749e-03  4.7899778e-03  4.7975727e-03  2.2499568e-03\n",
      " -4.0034732e-04  4.1407780e-04 -1.1830432e-03 -2.3425121e-03\n",
      "  7.5874926e-04  1.2957152e-03  1.2740499e-03  3.1562708e-03\n",
      "  5.6691333e-03  3.5823006e-03  9.0412184e-04 -5.9905736e-04\n",
      " -1.3747500e-03 -4.0857960e-03  9.8716991e-04 -1.1217123e-03\n",
      "  3.1258410e-03  2.6419884e-04  3.8099296e-03  1.6567529e-03\n",
      "  1.4878087e-03 -4.7048023e-03  3.6557624e-03  4.9456079e-03\n",
      "  5.3699077e-03  3.1124832e-04  1.3289563e-03 -1.7617560e-03\n",
      "  4.8402641e-03  1.8819269e-03 -1.4080945e-03  4.0964391e-03]\n"
     ]
    }
   ],
   "source": [
    "\"\"\"Mean of Embeddings\n",
    "\n",
    "First Comment\n",
    "\n",
    "['drink','not','good']\n",
    "\n",
    "Mean of Word Embeddings for Sentences:\n",
    "The code calculates the mean word embedding vector for the first comment \"['drink','not','good'].\" It converts each word in \n",
    "the sentence to its Word2Vec embedding, takes the mean of those embeddings, and shows the resulting vector's shape.\n",
    "\"\"\"\n",
    "\n",
    "sentences[0]\n",
    "\n",
    "first = np.array([model.wv.get_vector(word) for word in sentences[0] ])\n",
    "print(first.shape)\n",
    "\n",
    "print(first.mean(axis=0))\n",
    "\n"
   ]
  },
  {
   "cell_type": "code",
   "execution_count": 12,
   "id": "95949fe2",
   "metadata": {},
   "outputs": [
    {
     "data": {
      "text/plain": [
       "array([[ 7.6966463e-03,  9.1206422e-03,  1.1355019e-03, -8.3250795e-03,\n",
       "         8.4250160e-03, -3.6962307e-03,  5.7421732e-03,  4.3915794e-03,\n",
       "         9.6899448e-03, -9.2934975e-03,  9.2084054e-03, -9.2815282e-03,\n",
       "        -6.9077122e-03, -9.1021946e-03, -5.5471100e-03,  7.3688962e-03,\n",
       "         9.1644777e-03, -3.3253515e-03,  3.7230505e-03, -3.6252034e-03,\n",
       "         7.8814710e-03,  5.8668759e-03,  2.0861626e-07, -3.6286747e-03,\n",
       "        -7.2243060e-03,  4.7686161e-03,  1.4529788e-03, -2.6131857e-03,\n",
       "         7.8378068e-03, -4.0496145e-03, -9.1489861e-03, -2.2554707e-03,\n",
       "         1.2514711e-04, -6.6392552e-03, -5.4866159e-03, -8.4997769e-03,\n",
       "         9.2298733e-03,  7.4240281e-03, -2.9524326e-04,  7.3676636e-03,\n",
       "         7.9507884e-03, -7.8357337e-04,  6.6120909e-03,  3.7675237e-03,\n",
       "         5.0768424e-03,  7.2529912e-03, -4.7393893e-03, -2.1855331e-03,\n",
       "         8.7312341e-04,  4.2362059e-03,  3.3043313e-03,  5.0958274e-03,\n",
       "         4.5864857e-03, -8.4385090e-03, -3.1838394e-03, -7.2367596e-03,\n",
       "         9.6814223e-03,  5.0065992e-03,  1.7084122e-04,  4.1129780e-03,\n",
       "        -7.6561309e-03, -6.2946510e-03,  3.0763936e-03,  6.5346383e-03,\n",
       "         3.9498745e-03,  6.0180221e-03, -1.9861318e-03, -3.3451295e-03,\n",
       "         2.0717025e-04, -3.1943608e-03, -5.5169044e-03, -7.7885604e-03,\n",
       "         6.5355431e-03, -1.0903371e-03, -1.8908798e-03, -7.8047751e-03,\n",
       "         9.3375733e-03,  8.6814165e-04,  1.7696369e-03,  2.4916660e-03,\n",
       "        -7.3859929e-03,  1.6388226e-03,  2.9765631e-03, -8.5670296e-03,\n",
       "         4.9558021e-03,  2.4334085e-03,  7.4979127e-03,  5.0442982e-03,\n",
       "        -3.0317164e-03, -7.1629370e-03,  7.0962133e-03,  1.9015349e-03,\n",
       "         5.1992359e-03,  6.3811089e-03,  1.9122792e-03, -6.1276113e-03,\n",
       "        -6.2966346e-06,  8.2682976e-03, -6.0985480e-03,  9.4382809e-03],\n",
       "       [-9.5001198e-03,  9.5622232e-03, -7.7707553e-03, -2.6455082e-03,\n",
       "        -4.9064090e-03, -4.9666967e-03, -8.0235908e-03, -7.7835848e-03,\n",
       "        -4.5532119e-03, -1.2753617e-03, -5.1029883e-03,  6.1405422e-03,\n",
       "        -9.5166191e-03, -5.3071044e-03,  9.4371522e-03,  6.9913291e-03,\n",
       "         7.6758158e-03,  4.2347396e-03,  5.0709245e-04, -5.9811436e-03,\n",
       "         6.0187769e-03,  2.6350308e-03,  7.6994337e-03,  6.3938429e-03,\n",
       "         7.9425704e-03,  8.6574070e-03, -9.8957550e-03, -6.7557050e-03,\n",
       "         1.3375747e-03,  6.4403033e-03,  7.3738159e-03,  5.5169808e-03,\n",
       "         7.6616253e-03, -5.1255678e-03,  6.5844096e-03, -4.1083731e-03,\n",
       "        -9.0553425e-03,  9.1416799e-03,  1.3314044e-03, -2.7596795e-03,\n",
       "        -2.4778426e-03, -4.2204787e-03,  4.8123370e-03,  4.4002221e-03,\n",
       "        -2.6533627e-03, -7.3418808e-03, -3.5658514e-03, -3.3661484e-04,\n",
       "         6.0958923e-03, -2.8373385e-03, -1.2089491e-04,  8.7972643e-04,\n",
       "        -7.0956494e-03,  2.0650018e-03, -1.4324236e-03,  2.8021492e-03,\n",
       "         4.8422217e-03, -1.3520193e-03, -2.7801429e-03,  7.7386475e-03,\n",
       "         5.0455988e-03,  6.7135217e-03,  4.5156432e-03,  8.6671552e-03,\n",
       "         7.4749696e-03, -1.0818875e-03,  8.7476382e-03,  4.6017184e-03,\n",
       "         5.4406333e-03, -1.3860846e-03, -2.0413185e-03, -4.4243457e-03,\n",
       "        -8.5151969e-03,  3.0377281e-03,  8.8831922e-03,  8.9197420e-03,\n",
       "        -1.9423545e-03,  6.0861576e-03,  3.7797235e-03, -4.2959657e-03,\n",
       "         2.0429241e-03, -5.4378854e-03,  8.2088923e-03,  5.4329084e-03,\n",
       "         3.1844343e-03,  4.1025686e-03,  8.6571500e-03,  7.2720349e-03,\n",
       "        -8.3347323e-04, -7.0727682e-03,  8.3804727e-03,  7.2335838e-03,\n",
       "         1.7304718e-03, -1.3474918e-03, -5.8900919e-03, -4.5330906e-03,\n",
       "         8.6479662e-03, -3.1351077e-03, -6.3388194e-03,  9.8700775e-03],\n",
       "       [ 9.4563962e-05,  3.0773198e-03, -6.8126451e-03, -1.3754654e-03,\n",
       "         7.6685809e-03,  7.3464094e-03, -3.6732971e-03,  2.6427018e-03,\n",
       "        -8.3171297e-03,  6.2054861e-03, -4.6373224e-03, -3.1641065e-03,\n",
       "         9.3113566e-03,  8.7338570e-04,  7.4907029e-03, -6.0740625e-03,\n",
       "         5.1605068e-03,  9.9228229e-03, -8.4573915e-03, -5.1356913e-03,\n",
       "        -7.0648370e-03, -4.8626517e-03, -3.7785638e-03, -8.5361991e-03,\n",
       "         7.9556061e-03, -4.8439382e-03,  8.4236134e-03,  5.2625705e-03,\n",
       "        -6.5500261e-03,  3.9578713e-03,  5.4701497e-03, -7.4265362e-03,\n",
       "        -7.4057197e-03, -2.4752307e-03, -8.6257253e-03, -1.5815723e-03,\n",
       "        -4.0343284e-04,  3.2996845e-03,  1.4418805e-03, -8.8142155e-04,\n",
       "        -5.5940580e-03,  1.7303658e-03, -8.9737179e-04,  6.7936908e-03,\n",
       "         3.9735902e-03,  4.5294715e-03,  1.4343059e-03, -2.6998555e-03,\n",
       "        -4.3668128e-03, -1.0320747e-03,  1.4370275e-03, -2.6460087e-03,\n",
       "        -7.0737829e-03, -7.8053069e-03, -9.1217868e-03, -5.9351693e-03,\n",
       "        -1.8474245e-03, -4.3238713e-03, -6.4606704e-03, -3.7173224e-03,\n",
       "         4.2891586e-03, -3.7390434e-03,  8.3781751e-03,  1.5339935e-03,\n",
       "        -7.2423196e-03,  9.4337985e-03,  7.6312125e-03,  5.4932819e-03,\n",
       "        -6.8488456e-03,  5.8226790e-03,  4.0090932e-03,  5.1853694e-03,\n",
       "         4.2559016e-03,  1.9397545e-03, -3.1701624e-03,  8.3538452e-03,\n",
       "         9.6121803e-03,  3.7926030e-03, -2.8369951e-03,  7.1275235e-06,\n",
       "         1.2188185e-03, -8.4583247e-03, -8.2239453e-03, -2.3101569e-04,\n",
       "         1.2372875e-03, -5.7433806e-03, -4.7252737e-03, -7.3460746e-03,\n",
       "         8.3286157e-03,  1.2129784e-04, -4.5093987e-03,  5.7017053e-03,\n",
       "         9.1800150e-03, -4.0998720e-03,  7.9646818e-03,  5.3754342e-03,\n",
       "         5.8791232e-03,  5.1259040e-04,  8.2130842e-03, -7.0190406e-03]],\n",
       "      dtype=float32)"
      ]
     },
     "execution_count": 12,
     "metadata": {},
     "output_type": "execute_result"
    }
   ],
   "source": [
    "first"
   ]
  },
  {
   "cell_type": "code",
   "execution_count": 8,
   "id": "48c5411d",
   "metadata": {},
   "outputs": [
    {
     "data": {
      "text/plain": [
       "(8, 100)"
      ]
     },
     "execution_count": 8,
     "metadata": {},
     "output_type": "execute_result"
    }
   ],
   "source": [
    "\"\"\"All Comments\"\"\"\n",
    "\n",
    "means = []\n",
    "for sentence in sentences :\n",
    "    sent = np.array([model.wv.get_vector(word) for word in sentence ])\n",
    "    row_means = sent.mean(axis=0)\n",
    "    means.append(row_means)\n",
    "means = np.array(means)\n",
    "\n",
    "X = means\n",
    "\n",
    "X.shape\n",
    "\n"
   ]
  },
  {
   "cell_type": "code",
   "execution_count": 9,
   "id": "273e608e",
   "metadata": {},
   "outputs": [
    {
     "data": {
      "text/html": [
       "<style>#sk-container-id-1 {color: black;background-color: white;}#sk-container-id-1 pre{padding: 0;}#sk-container-id-1 div.sk-toggleable {background-color: white;}#sk-container-id-1 label.sk-toggleable__label {cursor: pointer;display: block;width: 100%;margin-bottom: 0;padding: 0.3em;box-sizing: border-box;text-align: center;}#sk-container-id-1 label.sk-toggleable__label-arrow:before {content: \"▸\";float: left;margin-right: 0.25em;color: #696969;}#sk-container-id-1 label.sk-toggleable__label-arrow:hover:before {color: black;}#sk-container-id-1 div.sk-estimator:hover label.sk-toggleable__label-arrow:before {color: black;}#sk-container-id-1 div.sk-toggleable__content {max-height: 0;max-width: 0;overflow: hidden;text-align: left;background-color: #f0f8ff;}#sk-container-id-1 div.sk-toggleable__content pre {margin: 0.2em;color: black;border-radius: 0.25em;background-color: #f0f8ff;}#sk-container-id-1 input.sk-toggleable__control:checked~div.sk-toggleable__content {max-height: 200px;max-width: 100%;overflow: auto;}#sk-container-id-1 input.sk-toggleable__control:checked~label.sk-toggleable__label-arrow:before {content: \"▾\";}#sk-container-id-1 div.sk-estimator input.sk-toggleable__control:checked~label.sk-toggleable__label {background-color: #d4ebff;}#sk-container-id-1 div.sk-label input.sk-toggleable__control:checked~label.sk-toggleable__label {background-color: #d4ebff;}#sk-container-id-1 input.sk-hidden--visually {border: 0;clip: rect(1px 1px 1px 1px);clip: rect(1px, 1px, 1px, 1px);height: 1px;margin: -1px;overflow: hidden;padding: 0;position: absolute;width: 1px;}#sk-container-id-1 div.sk-estimator {font-family: monospace;background-color: #f0f8ff;border: 1px dotted black;border-radius: 0.25em;box-sizing: border-box;margin-bottom: 0.5em;}#sk-container-id-1 div.sk-estimator:hover {background-color: #d4ebff;}#sk-container-id-1 div.sk-parallel-item::after {content: \"\";width: 100%;border-bottom: 1px solid gray;flex-grow: 1;}#sk-container-id-1 div.sk-label:hover label.sk-toggleable__label {background-color: #d4ebff;}#sk-container-id-1 div.sk-serial::before {content: \"\";position: absolute;border-left: 1px solid gray;box-sizing: border-box;top: 0;bottom: 0;left: 50%;z-index: 0;}#sk-container-id-1 div.sk-serial {display: flex;flex-direction: column;align-items: center;background-color: white;padding-right: 0.2em;padding-left: 0.2em;position: relative;}#sk-container-id-1 div.sk-item {position: relative;z-index: 1;}#sk-container-id-1 div.sk-parallel {display: flex;align-items: stretch;justify-content: center;background-color: white;position: relative;}#sk-container-id-1 div.sk-item::before, #sk-container-id-1 div.sk-parallel-item::before {content: \"\";position: absolute;border-left: 1px solid gray;box-sizing: border-box;top: 0;bottom: 0;left: 50%;z-index: -1;}#sk-container-id-1 div.sk-parallel-item {display: flex;flex-direction: column;z-index: 1;position: relative;background-color: white;}#sk-container-id-1 div.sk-parallel-item:first-child::after {align-self: flex-end;width: 50%;}#sk-container-id-1 div.sk-parallel-item:last-child::after {align-self: flex-start;width: 50%;}#sk-container-id-1 div.sk-parallel-item:only-child::after {width: 0;}#sk-container-id-1 div.sk-dashed-wrapped {border: 1px dashed gray;margin: 0 0.4em 0.5em 0.4em;box-sizing: border-box;padding-bottom: 0.4em;background-color: white;}#sk-container-id-1 div.sk-label label {font-family: monospace;font-weight: bold;display: inline-block;line-height: 1.2em;}#sk-container-id-1 div.sk-label-container {text-align: center;}#sk-container-id-1 div.sk-container {/* jupyter's `normalize.less` sets `[hidden] { display: none; }` but bootstrap.min.css set `[hidden] { display: none !important; }` so we also need the `!important` here to be able to override the default hidden behavior on the sphinx rendered scikit-learn.org. See: https://github.com/scikit-learn/scikit-learn/issues/21755 */display: inline-block !important;position: relative;}#sk-container-id-1 div.sk-text-repr-fallback {display: none;}</style><div id=\"sk-container-id-1\" class=\"sk-top-container\"><div class=\"sk-text-repr-fallback\"><pre>RandomForestClassifier(random_state=23)</pre><b>In a Jupyter environment, please rerun this cell to show the HTML representation or trust the notebook. <br />On GitHub, the HTML representation is unable to render, please try loading this page with nbviewer.org.</b></div><div class=\"sk-container\" hidden><div class=\"sk-item\"><div class=\"sk-estimator sk-toggleable\"><input class=\"sk-toggleable__control sk-hidden--visually\" id=\"sk-estimator-id-1\" type=\"checkbox\" checked><label for=\"sk-estimator-id-1\" class=\"sk-toggleable__label sk-toggleable__label-arrow\">RandomForestClassifier</label><div class=\"sk-toggleable__content\"><pre>RandomForestClassifier(random_state=23)</pre></div></div></div></div></div>"
      ],
      "text/plain": [
       "RandomForestClassifier(random_state=23)"
      ]
     },
     "execution_count": 9,
     "metadata": {},
     "output_type": "execute_result"
    }
   ],
   "source": [
    "\"\"\"Model Building\"\"\"\n",
    "\n",
    "from sklearn.ensemble import RandomForestClassifier\n",
    "model_rf = RandomForestClassifier(random_state=23)\n",
    "model_rf.fit( X , y )\n",
    "\n"
   ]
  },
  {
   "cell_type": "code",
   "execution_count": 10,
   "id": "3432e059",
   "metadata": {},
   "outputs": [
    {
     "data": {
      "text/plain": [
       "array([0, 1])"
      ]
     },
     "execution_count": 10,
     "metadata": {},
     "output_type": "execute_result"
    }
   ],
   "source": [
    "\"\"\"Model Testing:\"\"\"\n",
    "\n",
    "test_sentences = [['bad','food'],['good','place']]\n",
    "\n",
    "test_means = []\n",
    "for sentence in test_sentences :\n",
    "    sent = np.array([model.wv.get_vector(word) for word in sentence ])\n",
    "    row_means = sent.sum(axis=0)\n",
    "    test_means.append(row_means)\n",
    "num_test_means = np.array(test_means)\n",
    "X_test = num_test_means\n",
    "\n",
    "y_pred = model_rf.predict(X_test)\n",
    "\n",
    "y_pred"
   ]
  },
  {
   "cell_type": "code",
   "execution_count": null,
   "id": "227c2dc3",
   "metadata": {},
   "outputs": [],
   "source": []
  }
 ],
 "metadata": {
  "kernelspec": {
   "display_name": "Python 3 (ipykernel)",
   "language": "python",
   "name": "python3"
  },
  "language_info": {
   "codemirror_mode": {
    "name": "ipython",
    "version": 3
   },
   "file_extension": ".py",
   "mimetype": "text/x-python",
   "name": "python",
   "nbconvert_exporter": "python",
   "pygments_lexer": "ipython3",
   "version": "3.11.3"
  }
 },
 "nbformat": 4,
 "nbformat_minor": 5
}
